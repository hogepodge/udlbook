{
  "cells": [
    {
      "cell_type": "markdown",
      "metadata": {
        "colab_type": "text",
        "id": "view-in-github"
      },
      "source": [
        "<a href=\"https://colab.research.google.com/github/udlbook/udlbook/blob/main/Notebooks/Chap08/8_4_High_Dimensional_Spaces.ipynb\" target=\"_parent\"><img src=\"https://colab.research.google.com/assets/colab-badge.svg\" alt=\"Open In Colab\"/></a>"
      ]
    },
    {
      "cell_type": "markdown",
      "metadata": {
        "id": "EjLK-kA1KnYX"
      },
      "source": [
        "# **Notebook 8.4: High-dimensional spaces**\n",
        "\n",
        "This notebook investigates the strange properties of high-dimensional spaces as discussed in the notes at the end of chapter 8.\n",
        "\n",
        "Work through the cells below, running each cell in turn. In various places you will see the words \"TO DO\". Follow the instructions at these places and make predictions about what is going to happen or write code to complete the functions.\n",
        "\n",
        "Contact me at udlbookmail@gmail.com if you find any mistakes or have any suggestions."
      ]
    },
    {
      "cell_type": "code",
      "execution_count": 1,
      "metadata": {
        "id": "4ESMmnkYEVAb"
      },
      "outputs": [],
      "source": [
        "import numpy as np\n",
        "import matplotlib.pyplot as plt\n",
        "import scipy.special as sci"
      ]
    },
    {
      "cell_type": "markdown",
      "metadata": {
        "id": "MonbPEitLNgN"
      },
      "source": [
        "# How close are points in high dimensions?\n",
        "\n",
        "In this part of the notebook, we investigate how close random points are in 2D, 100D, and 1000D.   In each case, we generate 1000 points and calculate the Euclidean distance between each pair.  "
      ]
    },
    {
      "cell_type": "code",
      "execution_count": 10,
      "metadata": {
        "id": "vZSHVmcWEk14"
      },
      "outputs": [
        {
          "name": "stdout",
          "output_type": "stream",
          "text": [
            "[ 0.97873798 -0.42231482]\n"
          ]
        }
      ],
      "source": [
        "# Fix the random seed so we all have the same random numbers\n",
        "np.random.seed(0)\n",
        "n_data = 1000\n",
        "# Create 1000 data examples (columns) each with 2 dimensions (rows)\n",
        "n_dim = 2\n",
        "x_2D = np.random.normal(size=(n_dim,n_data))\n",
        "# Create 1000 data examples (columns) each with 100 dimensions (rows)\n",
        "n_dim = 100\n",
        "x_100D = np.random.normal(size=(n_dim,n_data))\n",
        "# Create 1000 data examples (columns) each with 1000 dimensions (rows)\n",
        "n_dim = 1000\n",
        "x_1000D = np.random.normal(size=(n_dim,n_data))"
      ]
    },
    {
      "cell_type": "code",
      "execution_count": 24,
      "metadata": {
        "id": "PhVmnUs8ErD9"
      },
      "outputs": [
        {
          "name": "stdout",
          "output_type": "stream",
          "text": [
            "[ 1.00450954 -0.36611729 -0.86535664 -0.97466505  0.25209373 -1.05908837\n",
            " -0.55101024  1.01456165  1.54295124 -0.04179593 -0.97082867  1.14666783\n",
            " -0.33672314 -0.83090229  2.6604965   1.37962562 -0.35905987 -0.82395394\n",
            "  0.38990219 -0.60095471  0.84930653 -0.87159702  0.58345    -0.94201249\n",
            " -0.81319242 -1.76285836 -2.50604943  0.19289523  0.368825    0.54702153\n",
            " -1.93613673 -0.69205712 -0.24158639 -0.65354717  1.06467488 -1.11792153\n",
            "  1.38167604  0.54443324  2.20826955 -0.55636953  1.5177486   0.74143506\n",
            " -0.4817004  -1.7315628   0.3577418  -0.78713759 -0.15549907 -1.36746708\n",
            " -1.02283987 -0.50886981  1.47756095 -2.46978519  0.61249997 -1.25085654\n",
            " -0.14183288 -0.35727247 -0.88701269 -0.21642578 -0.96988334  0.3975863\n",
            " -1.49726572 -0.11227114 -0.93153963  1.47090291  1.86115227  2.61429151\n",
            "  1.30858695  2.06933902 -0.92036135  2.64376389 -1.93520561  1.53972734\n",
            "  0.08531488 -1.08808432  1.18304376 -0.71943732  1.08931776 -0.02132773\n",
            " -0.05950945 -1.77685137  0.65470454 -0.27385513 -2.24828692  1.14119858\n",
            " -1.61790605 -0.63277804 -0.9416891  -1.83505118  0.73337598 -0.96592562\n",
            " -1.68541649 -1.85444983 -0.40108979 -2.3514428  -1.84796752  0.37453022\n",
            "  1.43868387  0.70178407  0.06819968 -0.28220895]\n",
            "[1.00903941e+00 1.34041873e-01 7.48842123e-01 9.49971968e-01\n",
            " 6.35512502e-02 1.12166818e+00 3.03612282e-01 1.02933535e+00\n",
            " 2.38069854e+00 1.74689955e-03 9.42508315e-01 1.31484712e+00\n",
            " 1.13382473e-01 6.90398615e-01 7.07824165e+00 1.90336686e+00\n",
            " 1.28923990e-01 6.78900094e-01 1.52023718e-01 3.61146566e-01\n",
            " 7.21321588e-01 7.59681367e-01 3.40413905e-01 8.87387537e-01\n",
            " 6.61281905e-01 3.10766961e+00 6.28028376e+00 3.72085713e-02\n",
            " 1.36031879e-01 2.99232557e-01 3.74862544e+00 4.78943059e-01\n",
            " 5.83639842e-02 4.27123901e-01 1.13353261e+00 1.24974854e+00\n",
            " 1.90902869e+00 2.96407548e-01 4.87645440e+00 3.09547050e-01\n",
            " 2.30356081e+00 5.49725946e-01 2.32035272e-01 2.99830974e+00\n",
            " 1.27979195e-01 6.19585584e-01 2.41799597e-02 1.86996622e+00\n",
            " 1.04620139e+00 2.58948482e-01 2.18318636e+00 6.09983890e+00\n",
            " 3.75156212e-01 1.56464208e+00 2.01165661e-02 1.27643615e-01\n",
            " 7.86791516e-01 4.68401202e-02 9.40673701e-01 1.58074868e-01\n",
            " 2.24180464e+00 1.26048082e-02 8.67766078e-01 2.16355536e+00\n",
            " 3.46388779e+00 6.83452009e+00 1.71239981e+00 4.28216400e+00\n",
            " 8.47065014e-01 6.98948752e+00 3.74502077e+00 2.37076028e+00\n",
            " 7.27862802e-03 1.18392749e+00 1.39959254e+00 5.17590062e-01\n",
            " 1.18661317e+00 4.54872077e-04 3.54137458e-03 3.15720079e+00\n",
            " 4.28638040e-01 7.49966327e-02 5.05479409e+00 1.30233419e+00\n",
            " 2.61761998e+00 4.00408052e-01 8.86778354e-01 3.36741283e+00\n",
            " 5.37840323e-01 9.33012305e-01 2.84062876e+00 3.43898417e+00\n",
            " 1.60873016e-01 5.52928323e+00 3.41498396e+00 1.40272885e-01\n",
            " 2.06981129e+00 4.92500875e-01 4.65119579e-03 7.96418928e-02]\n",
            "147.92069285561567\n",
            "12.162265120265044\n"
          ]
        }
      ],
      "source": [
        "print(x_100D[:,2] - x_100D[:,3])\n",
        "print(np.square(x_100D[:,2] - x_100D[:,3]))\n",
        "print(np.sum(np.square(x_100D[:,2] - x_100D[:,3])))\n",
        "print(np.sqrt(np.sum(np.square(x_100D[:,2] - x_100D[:,3]))))\n",
        "\n",
        "def distance_ratio(x):\n",
        "  # TODO -- replace the two lines below to calculate the largest and smallest Euclidean distance between\n",
        "  # the data points in the columns of x.  DO NOT include the distance between the data point\n",
        "  # and itself (which is obviously zero)\n",
        "  smallest_dist = 100000.0\n",
        "  largest_dist = 0.0\n",
        "\n",
        "  for i in range(x.shape[1]):\n",
        "    for j in range(i+1, x.shape[1]):\n",
        "      distance = np.sqrt(np.sum(np.square(x[:,i] - x[:,j])))\n",
        "      if (distance < smallest_dist):\n",
        "        smallest_dist = distance\n",
        "      if (distance > largest_dist):\n",
        "        largest_dist = distance\n",
        "  \n",
        "  # Calculate the ratio and return\n",
        "  dist_ratio = largest_dist / smallest_dist\n",
        "  return dist_ratio"
      ]
    },
    {
      "cell_type": "code",
      "execution_count": 25,
      "metadata": {
        "id": "0NdPxfn5GQuJ"
      },
      "outputs": [
        {
          "name": "stdout",
          "output_type": "stream",
          "text": [
            "Ratio of largest to smallest distance 2D: 2840.258\n",
            "Ratio of largest to smallest distance 100D: 2.038\n",
            "Ratio of largest to smallest distance 1000D: 1.221\n"
          ]
        }
      ],
      "source": [
        "print('Ratio of largest to smallest distance 2D: %3.3f'%(distance_ratio(x_2D)))\n",
        "print('Ratio of largest to smallest distance 100D: %3.3f'%(distance_ratio(x_100D)))\n",
        "print('Ratio of largest to smallest distance 1000D: %3.3f'%(distance_ratio(x_1000D)))\n"
      ]
    },
    {
      "cell_type": "markdown",
      "metadata": {
        "id": "uT68c0k8uBxs"
      },
      "source": [
        "If you did this right, you will see that the distance between the nearest and farthest two points in high dimensions is almost the same.  "
      ]
    },
    {
      "cell_type": "markdown",
      "metadata": {
        "id": "b2FYKV1SL4Z7"
      },
      "source": [
        "# Volume of a hypersphere\n",
        "\n",
        "In the second part of this notebook we calculate the volume of a hypersphere of radius 0.5 (i.e., of diameter 1) as a function of the radius.  Note that you you can check your answer by doing the calculation for 2D using the standard formula for the area of a circle and making sure it matches."
      ]
    },
    {
      "cell_type": "code",
      "execution_count": 31,
      "metadata": {
        "id": "CZoNhD8XJaHR"
      },
      "outputs": [],
      "source": [
        "from scipy.special import gamma\n",
        "\n",
        "def volume_of_hypersphere(diameter, dimensions):\n",
        "  # Formula given in Problem 8.7 of the book\n",
        "  # You will need sci.gamma()\n",
        "  # Check out:    https://docs.scipy.org/doc/scipy/reference/generated/scipy.special.gamma.html\n",
        "  # Also use this value for pi\n",
        "  pi = np.pi\n",
        "  # TODO replace this code with formula for the volume of a hypersphere\n",
        "  radius = diameter/2.0\n",
        "  volume = radius**dimensions * pi**(dimensions/2) / gamma(dimensions/2 + 1)\n",
        "\n",
        "  return volume\n"
      ]
    },
    {
      "cell_type": "code",
      "execution_count": 32,
      "metadata": {
        "id": "fNTBlg_GPEUh"
      },
      "outputs": [
        {
          "name": "stdout",
          "output_type": "stream",
          "text": [
            "Volume of unit diameter hypersphere in 1 dimensions is 1.000\n",
            "Volume of unit diameter hypersphere in 2 dimensions is 0.785\n",
            "Volume of unit diameter hypersphere in 3 dimensions is 0.524\n",
            "Volume of unit diameter hypersphere in 4 dimensions is 0.308\n",
            "Volume of unit diameter hypersphere in 5 dimensions is 0.164\n",
            "Volume of unit diameter hypersphere in 6 dimensions is 0.081\n",
            "Volume of unit diameter hypersphere in 7 dimensions is 0.037\n",
            "Volume of unit diameter hypersphere in 8 dimensions is 0.016\n",
            "Volume of unit diameter hypersphere in 9 dimensions is 0.006\n",
            "Volume of unit diameter hypersphere in 10 dimensions is 0.002\n"
          ]
        }
      ],
      "source": [
        "diameter = 1.0\n",
        "for c_dim in range(1,11):\n",
        "  print(\"Volume of unit diameter hypersphere in %d dimensions is %3.3f\"%(c_dim, volume_of_hypersphere(diameter, c_dim)))"
      ]
    },
    {
      "cell_type": "markdown",
      "metadata": {
        "id": "PtaeGSNBunJl"
      },
      "source": [
        "You should see that the volume decreases to almost nothing in high dimensions.  All of the volume is in the corners of the unit hypercube (which always has volume 1)."
      ]
    },
    {
      "cell_type": "markdown",
      "metadata": {
        "id": "GdyMeOBmoXyF"
      },
      "source": [
        "# Proportion of hypersphere in outer shell\n",
        "\n",
        "In the third part of the notebook you will calculate what proportion of the volume of a hypersphere is in the outer 1% of the radius/diameter.  Calculate the volume of a hypersphere and then the volume of a hypersphere with 0.99 of the radius and then figure out the ratio.  "
      ]
    },
    {
      "cell_type": "code",
      "execution_count": 41,
      "metadata": {
        "id": "8_CxZ2AIpQ8w"
      },
      "outputs": [],
      "source": [
        "def get_prop_of_volume_in_outer_1_percent(dimension):\n",
        "  # TODO -- replace this line\n",
        "  proportion = (volume_of_hypersphere(1, dimension)-volume_of_hypersphere(0.99, dimension))/volume_of_hypersphere(1, dimension)\n",
        "\n",
        "  return proportion"
      ]
    },
    {
      "cell_type": "code",
      "execution_count": 42,
      "metadata": {
        "id": "LtMDIn2qPVfJ"
      },
      "outputs": [
        {
          "name": "stdout",
          "output_type": "stream",
          "text": [
            "Proportion of volume in outer 1 percent of radius in 1 dimensions =0.010\n",
            "Proportion of volume in outer 1 percent of radius in 2 dimensions =0.020\n",
            "Proportion of volume in outer 1 percent of radius in 10 dimensions =0.096\n",
            "Proportion of volume in outer 1 percent of radius in 20 dimensions =0.182\n",
            "Proportion of volume in outer 1 percent of radius in 50 dimensions =0.395\n",
            "Proportion of volume in outer 1 percent of radius in 100 dimensions =0.634\n",
            "Proportion of volume in outer 1 percent of radius in 150 dimensions =0.779\n",
            "Proportion of volume in outer 1 percent of radius in 200 dimensions =0.866\n",
            "Proportion of volume in outer 1 percent of radius in 250 dimensions =0.919\n",
            "Proportion of volume in outer 1 percent of radius in 300 dimensions =0.951\n"
          ]
        }
      ],
      "source": [
        "# While we're here, let's look at how much of the volume is in the outer 1% of the radius\n",
        "for c_dim in [1,2,10,20,50,100,150,200,250,300]:\n",
        "  print('Proportion of volume in outer 1 percent of radius in %d dimensions =%3.3f'%(c_dim, get_prop_of_volume_in_outer_1_percent(c_dim)))"
      ]
    },
    {
      "cell_type": "markdown",
      "metadata": {
        "id": "n_FVeb-ZwzxD"
      },
      "source": [
        "You should see see that by the time we get to 300 dimensions most of the volume is in the outer 1 percent. <br><br>\n",
        "\n",
        "The conclusion of all of this is that in high dimensions you should be sceptical of your intuitions about how things work.  I have tried to visualize many things in one or two dimensions in the book, but you should also be sceptical about these visualizations!"
      ]
    }
  ],
  "metadata": {
    "colab": {
      "authorship_tag": "ABX9TyPAKqlf9VxztHXKylyJwqe8",
      "include_colab_link": true,
      "provenance": []
    },
    "kernelspec": {
      "display_name": "Python 3",
      "name": "python3"
    },
    "language_info": {
      "codemirror_mode": {
        "name": "ipython",
        "version": 3
      },
      "file_extension": ".py",
      "mimetype": "text/x-python",
      "name": "python",
      "nbconvert_exporter": "python",
      "pygments_lexer": "ipython3",
      "version": "3.11.7"
    }
  },
  "nbformat": 4,
  "nbformat_minor": 0
}
