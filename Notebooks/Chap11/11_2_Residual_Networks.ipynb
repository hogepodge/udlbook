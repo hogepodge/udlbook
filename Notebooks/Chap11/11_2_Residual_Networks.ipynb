{
  "cells": [
    {
      "cell_type": "markdown",
      "metadata": {
        "colab_type": "text",
        "id": "view-in-github"
      },
      "source": [
        "<a href=\"https://colab.research.google.com/github/udlbook/udlbook/blob/main/Notebooks/Chap11/11_2_Residual_Networks.ipynb\" target=\"_parent\"><img src=\"https://colab.research.google.com/assets/colab-badge.svg\" alt=\"Open In Colab\"/></a>"
      ]
    },
    {
      "cell_type": "markdown",
      "metadata": {
        "id": "t9vk9Elugvmi"
      },
      "source": [
        "# **Notebook 11.2: Residual Networks**\n",
        "\n",
        "This notebook adapts the networks for MNIST1D to use residual connections.\n",
        "\n",
        "Work through the cells below, running each cell in turn. In various places you will see the words \"TO DO\". Follow the instructions at these places and make predictions about what is going to happen or write code to complete the functions.\n",
        "\n",
        "Contact me at udlbookmail@gmail.com if you find any mistakes or have any suggestions.\n",
        "\n"
      ]
    },
    {
      "cell_type": "code",
      "execution_count": 1,
      "metadata": {
        "id": "D5yLObtZCi9J"
      },
      "outputs": [
        {
          "name": "stdout",
          "output_type": "stream",
          "text": [
            "Cloning into 'mnist1d'...\n",
            "remote: Enumerating objects: 204, done.\u001b[K\n",
            "remote: Counting objects: 100% (76/76), done.\u001b[K\n",
            "remote: Compressing objects: 100% (35/35), done.\u001b[K\n",
            "remote: Total 204 (delta 47), reused 60 (delta 41), pack-reused 128\u001b[K\n",
            "Receiving objects: 100% (204/204), 8.42 MiB | 9.12 MiB/s, done.\n",
            "Resolving deltas: 100% (73/73), done.\n"
          ]
        }
      ],
      "source": [
        "# Run this if you're in a Colab to make a local copy of the MNIST 1D repository\n",
        "!git clone https://github.com/greydanus/mnist1d"
      ]
    },
    {
      "cell_type": "code",
      "execution_count": 2,
      "metadata": {
        "id": "YrXWAH7sUWvU"
      },
      "outputs": [],
      "source": [
        "import numpy as np\n",
        "import os\n",
        "import torch, torch.nn as nn\n",
        "from torch.utils.data import TensorDataset, DataLoader\n",
        "from torch.optim.lr_scheduler import StepLR\n",
        "import matplotlib.pyplot as plt\n",
        "import mnist1d\n",
        "import random"
      ]
    },
    {
      "cell_type": "code",
      "execution_count": 3,
      "metadata": {
        "id": "twI72ZCrCt5z"
      },
      "outputs": [
        {
          "name": "stdout",
          "output_type": "stream",
          "text": [
            "Did or could not load data from ./mnist1d_data.pkl. Rebuilding dataset...\n",
            "Examples in training set: 4000\n",
            "Examples in test set: 1000\n",
            "Length of each example: 40\n"
          ]
        }
      ],
      "source": [
        "args = mnist1d.data.get_dataset_args()\n",
        "data = mnist1d.data.get_dataset(args, path='./mnist1d_data.pkl', download=False, regenerate=False)\n",
        "\n",
        "# The training and test input and outputs are in\n",
        "# data['x'], data['y'], data['x_test'], and data['y_test']\n",
        "print(\"Examples in training set: {}\".format(len(data['y'])))\n",
        "print(\"Examples in test set: {}\".format(len(data['y_test'])))\n",
        "print(\"Length of each example: {}\".format(data['x'].shape[-1]))"
      ]
    },
    {
      "cell_type": "code",
      "execution_count": 4,
      "metadata": {
        "id": "8bKADvLHbiV5"
      },
      "outputs": [
        {
          "name": "stdout",
          "output_type": "stream",
          "text": [
            "Train data: 4000 examples (columns), each of which has 40 dimensions (rows)\n",
            "Validation data: 1000 examples (columns), each of which has 40 dimensions (rows)\n"
          ]
        }
      ],
      "source": [
        "# Load in the data\n",
        "train_data_x = data['x'].transpose()\n",
        "train_data_y = data['y']\n",
        "val_data_x = data['x_test'].transpose()\n",
        "val_data_y = data['y_test']\n",
        "# Print out sizes\n",
        "print(\"Train data: %d examples (columns), each of which has %d dimensions (rows)\"%((train_data_x.shape[1],train_data_x.shape[0])))\n",
        "print(\"Validation data: %d examples (columns), each of which has %d dimensions (rows)\"%((val_data_x.shape[1],val_data_x.shape[0])))"
      ]
    },
    {
      "cell_type": "markdown",
      "metadata": {
        "id": "_sFvRDGrl4qe"
      },
      "source": [
        "Define the network"
      ]
    },
    {
      "cell_type": "code",
      "execution_count": 12,
      "metadata": {
        "id": "FslroPJJffrh"
      },
      "outputs": [],
      "source": [
        "# There are 40 input dimensions and 10 output dimensions for this data\n",
        "# The inputs correspond to the 40 offsets in the MNIST1D template.\n",
        "D_i = 40\n",
        "# The outputs correspond to the 10 digits\n",
        "D_o = 10\n",
        "\n",
        "\n",
        "# We will adapt this model to have residual connections around the linear layers\n",
        "# This is the same model we used in practical 8.1, but we can't use the sequential\n",
        "# class for residual networks (which aren't strictly sequential).  Hence, I've rewritten\n",
        "# it as a model that inherits from a base class\n",
        "\n",
        "class ResidualNetwork(torch.nn.Module):\n",
        "  def __init__(self, input_size, output_size, hidden_size=100):\n",
        "    super(ResidualNetwork, self).__init__()\n",
        "    self.linear1 = nn.Linear(input_size, hidden_size)\n",
        "    self.linear2 = nn.Linear(hidden_size, hidden_size)\n",
        "    self.linear3 = nn.Linear(hidden_size, hidden_size)\n",
        "    self.linear4 = nn.Linear(hidden_size, output_size)\n",
        "    print(\"Initialized MLPBase model with {} parameters\".format(self.count_params()))\n",
        "\n",
        "  def count_params(self):\n",
        "    return sum([p.view(-1).shape[0] for p in self.parameters()])\n",
        "\n",
        "# TODO -- Add residual connections to this model\n",
        "# The order of operations within each block should similar to figure 11.5b\n",
        "# ie., linear1 first, ReLU+linear2 in first residual block, ReLU+linear3 in second residual block), linear4 at end\n",
        "# Replace this function\n",
        "  def forward(self, x):\n",
        "    h1 = self.linear1(x)\n",
        "    h2 = self.linear2(h1.relu()) + h1\n",
        "    h3 = self.linear3(h2.relu()) + h2\n",
        "    return self.linear4(h3)\n",
        "\n",
        "    #h1 = self.linear1(x).relu()\n",
        "    #h2 = self.linear2(h1).relu()\n",
        "    # h3 = self.linear3(h2).relu()\n",
        "    #return self.linear4(h3)\n"
      ]
    },
    {
      "cell_type": "code",
      "execution_count": 13,
      "metadata": {
        "id": "YgLaex1pfhqz"
      },
      "outputs": [],
      "source": [
        "# He initialization of weights\n",
        "def weights_init(layer_in):\n",
        "  if isinstance(layer_in, nn.Linear):\n",
        "    nn.init.kaiming_uniform_(layer_in.weight)\n",
        "    layer_in.bias.data.fill_(0.0)"
      ]
    },
    {
      "cell_type": "code",
      "execution_count": 14,
      "metadata": {
        "id": "NYw8I_3mmX5c"
      },
      "outputs": [
        {
          "name": "stdout",
          "output_type": "stream",
          "text": [
            "Initialized MLPBase model with 25310 parameters\n",
            "Epoch     0, train loss 1.501665, train error 59.15,  val loss 1.579556, percent error 64.20\n",
            "Epoch     1, train loss 1.217805, train error 44.17,  val loss 1.373700, percent error 52.40\n",
            "Epoch     2, train loss 1.019923, train error 37.17,  val loss 1.213307, percent error 47.00\n",
            "Epoch     3, train loss 0.864832, train error 32.18,  val loss 1.125164, percent error 43.10\n",
            "Epoch     4, train loss 0.713767, train error 25.78,  val loss 1.047000, percent error 40.60\n",
            "Epoch     5, train loss 0.650653, train error 24.20,  val loss 1.092747, percent error 39.30\n",
            "Epoch     6, train loss 0.558321, train error 20.38,  val loss 1.003677, percent error 39.60\n",
            "Epoch     7, train loss 0.502782, train error 18.32,  val loss 1.092994, percent error 37.50\n",
            "Epoch     8, train loss 0.431589, train error 15.82,  val loss 1.009380, percent error 37.00\n",
            "Epoch     9, train loss 0.378189, train error 13.85,  val loss 1.035802, percent error 35.10\n",
            "Epoch    10, train loss 0.374911, train error 13.78,  val loss 1.122548, percent error 36.10\n",
            "Epoch    11, train loss 0.284318, train error 10.25,  val loss 1.138111, percent error 34.10\n",
            "Epoch    12, train loss 0.262425, train error 9.32,  val loss 1.154022, percent error 35.00\n",
            "Epoch    13, train loss 0.224838, train error 7.70,  val loss 1.303748, percent error 37.30\n",
            "Epoch    14, train loss 0.287402, train error 10.65,  val loss 1.245261, percent error 34.90\n",
            "Epoch    15, train loss 0.362181, train error 12.78,  val loss 1.536439, percent error 39.20\n",
            "Epoch    16, train loss 0.251136, train error 8.93,  val loss 1.301900, percent error 34.60\n",
            "Epoch    17, train loss 0.210814, train error 7.25,  val loss 1.376230, percent error 34.20\n",
            "Epoch    18, train loss 0.215945, train error 7.97,  val loss 1.396559, percent error 34.20\n",
            "Epoch    19, train loss 0.164354, train error 5.72,  val loss 1.418254, percent error 33.60\n",
            "Epoch    20, train loss 0.060814, train error 1.32,  val loss 1.304801, percent error 32.80\n",
            "Epoch    21, train loss 0.030370, train error 0.18,  val loss 1.288018, percent error 31.10\n",
            "Epoch    22, train loss 0.020525, train error 0.07,  val loss 1.308189, percent error 30.30\n",
            "Epoch    23, train loss 0.015693, train error 0.03,  val loss 1.375723, percent error 30.50\n",
            "Epoch    24, train loss 0.012374, train error 0.00,  val loss 1.392419, percent error 30.50\n",
            "Epoch    25, train loss 0.010213, train error 0.00,  val loss 1.421566, percent error 30.40\n",
            "Epoch    26, train loss 0.008858, train error 0.00,  val loss 1.446851, percent error 30.20\n",
            "Epoch    27, train loss 0.007916, train error 0.00,  val loss 1.468414, percent error 30.60\n",
            "Epoch    28, train loss 0.007008, train error 0.00,  val loss 1.491023, percent error 30.40\n",
            "Epoch    29, train loss 0.006358, train error 0.00,  val loss 1.512287, percent error 30.70\n",
            "Epoch    30, train loss 0.005804, train error 0.00,  val loss 1.527079, percent error 30.60\n",
            "Epoch    31, train loss 0.005349, train error 0.00,  val loss 1.548073, percent error 30.40\n",
            "Epoch    32, train loss 0.004943, train error 0.00,  val loss 1.560650, percent error 30.60\n",
            "Epoch    33, train loss 0.004588, train error 0.00,  val loss 1.580889, percent error 30.60\n",
            "Epoch    34, train loss 0.004300, train error 0.00,  val loss 1.592742, percent error 30.70\n",
            "Epoch    35, train loss 0.004022, train error 0.00,  val loss 1.607310, percent error 30.50\n",
            "Epoch    36, train loss 0.003789, train error 0.00,  val loss 1.618881, percent error 30.80\n",
            "Epoch    37, train loss 0.003565, train error 0.00,  val loss 1.634795, percent error 30.70\n",
            "Epoch    38, train loss 0.003382, train error 0.00,  val loss 1.645232, percent error 30.50\n",
            "Epoch    39, train loss 0.003209, train error 0.00,  val loss 1.657070, percent error 30.60\n",
            "Epoch    40, train loss 0.003126, train error 0.00,  val loss 1.663086, percent error 30.60\n",
            "Epoch    41, train loss 0.003050, train error 0.00,  val loss 1.669081, percent error 30.30\n",
            "Epoch    42, train loss 0.002979, train error 0.00,  val loss 1.673204, percent error 30.60\n",
            "Epoch    43, train loss 0.002911, train error 0.00,  val loss 1.679337, percent error 30.70\n",
            "Epoch    44, train loss 0.002846, train error 0.00,  val loss 1.684147, percent error 30.30\n",
            "Epoch    45, train loss 0.002784, train error 0.00,  val loss 1.688881, percent error 30.40\n",
            "Epoch    46, train loss 0.002725, train error 0.00,  val loss 1.692681, percent error 30.50\n",
            "Epoch    47, train loss 0.002666, train error 0.00,  val loss 1.698611, percent error 30.50\n",
            "Epoch    48, train loss 0.002612, train error 0.00,  val loss 1.703401, percent error 30.50\n",
            "Epoch    49, train loss 0.002559, train error 0.00,  val loss 1.707620, percent error 30.50\n",
            "Epoch    50, train loss 0.002507, train error 0.00,  val loss 1.712260, percent error 30.40\n",
            "Epoch    51, train loss 0.002459, train error 0.00,  val loss 1.716134, percent error 30.40\n",
            "Epoch    52, train loss 0.002412, train error 0.00,  val loss 1.721168, percent error 30.30\n",
            "Epoch    53, train loss 0.002365, train error 0.00,  val loss 1.725148, percent error 30.30\n",
            "Epoch    54, train loss 0.002321, train error 0.00,  val loss 1.728888, percent error 30.50\n",
            "Epoch    55, train loss 0.002278, train error 0.00,  val loss 1.733662, percent error 30.40\n",
            "Epoch    56, train loss 0.002238, train error 0.00,  val loss 1.738348, percent error 30.40\n",
            "Epoch    57, train loss 0.002198, train error 0.00,  val loss 1.742198, percent error 30.40\n",
            "Epoch    58, train loss 0.002159, train error 0.00,  val loss 1.744770, percent error 30.50\n",
            "Epoch    59, train loss 0.002122, train error 0.00,  val loss 1.749881, percent error 30.50\n",
            "Epoch    60, train loss 0.002103, train error 0.00,  val loss 1.751714, percent error 30.50\n",
            "Epoch    61, train loss 0.002085, train error 0.00,  val loss 1.753684, percent error 30.70\n",
            "Epoch    62, train loss 0.002067, train error 0.00,  val loss 1.755742, percent error 30.60\n",
            "Epoch    63, train loss 0.002050, train error 0.00,  val loss 1.757587, percent error 30.70\n",
            "Epoch    64, train loss 0.002033, train error 0.00,  val loss 1.759301, percent error 30.70\n",
            "Epoch    65, train loss 0.002017, train error 0.00,  val loss 1.761036, percent error 30.70\n",
            "Epoch    66, train loss 0.002000, train error 0.00,  val loss 1.763056, percent error 30.70\n",
            "Epoch    67, train loss 0.001985, train error 0.00,  val loss 1.764910, percent error 30.70\n",
            "Epoch    68, train loss 0.001969, train error 0.00,  val loss 1.766586, percent error 30.70\n",
            "Epoch    69, train loss 0.001953, train error 0.00,  val loss 1.768495, percent error 30.60\n",
            "Epoch    70, train loss 0.001937, train error 0.00,  val loss 1.770151, percent error 30.70\n",
            "Epoch    71, train loss 0.001922, train error 0.00,  val loss 1.772274, percent error 30.70\n",
            "Epoch    72, train loss 0.001907, train error 0.00,  val loss 1.773982, percent error 30.60\n",
            "Epoch    73, train loss 0.001892, train error 0.00,  val loss 1.775647, percent error 30.60\n",
            "Epoch    74, train loss 0.001878, train error 0.00,  val loss 1.777478, percent error 30.60\n",
            "Epoch    75, train loss 0.001864, train error 0.00,  val loss 1.779364, percent error 30.60\n",
            "Epoch    76, train loss 0.001849, train error 0.00,  val loss 1.780859, percent error 30.60\n",
            "Epoch    77, train loss 0.001836, train error 0.00,  val loss 1.782493, percent error 30.60\n",
            "Epoch    78, train loss 0.001822, train error 0.00,  val loss 1.784506, percent error 30.60\n",
            "Epoch    79, train loss 0.001808, train error 0.00,  val loss 1.786113, percent error 30.60\n",
            "Epoch    80, train loss 0.001802, train error 0.00,  val loss 1.786955, percent error 30.60\n",
            "Epoch    81, train loss 0.001795, train error 0.00,  val loss 1.787864, percent error 30.60\n",
            "Epoch    82, train loss 0.001788, train error 0.00,  val loss 1.788697, percent error 30.60\n",
            "Epoch    83, train loss 0.001782, train error 0.00,  val loss 1.789684, percent error 30.60\n",
            "Epoch    84, train loss 0.001775, train error 0.00,  val loss 1.790506, percent error 30.60\n",
            "Epoch    85, train loss 0.001769, train error 0.00,  val loss 1.791229, percent error 30.60\n",
            "Epoch    86, train loss 0.001762, train error 0.00,  val loss 1.792079, percent error 30.60\n",
            "Epoch    87, train loss 0.001756, train error 0.00,  val loss 1.792921, percent error 30.60\n",
            "Epoch    88, train loss 0.001750, train error 0.00,  val loss 1.793646, percent error 30.60\n",
            "Epoch    89, train loss 0.001744, train error 0.00,  val loss 1.794410, percent error 30.60\n",
            "Epoch    90, train loss 0.001737, train error 0.00,  val loss 1.795272, percent error 30.60\n",
            "Epoch    91, train loss 0.001731, train error 0.00,  val loss 1.796118, percent error 30.60\n",
            "Epoch    92, train loss 0.001725, train error 0.00,  val loss 1.796806, percent error 30.60\n",
            "Epoch    93, train loss 0.001719, train error 0.00,  val loss 1.797875, percent error 30.60\n",
            "Epoch    94, train loss 0.001713, train error 0.00,  val loss 1.798469, percent error 30.60\n",
            "Epoch    95, train loss 0.001707, train error 0.00,  val loss 1.799429, percent error 30.60\n",
            "Epoch    96, train loss 0.001701, train error 0.00,  val loss 1.800262, percent error 30.60\n",
            "Epoch    97, train loss 0.001695, train error 0.00,  val loss 1.801053, percent error 30.60\n",
            "Epoch    98, train loss 0.001689, train error 0.00,  val loss 1.801896, percent error 30.60\n",
            "Epoch    99, train loss 0.001683, train error 0.00,  val loss 1.802694, percent error 30.60\n"
          ]
        }
      ],
      "source": [
        "#Define the model\n",
        "model = ResidualNetwork(40, 10)\n",
        "\n",
        "# choose cross entropy loss function (equation 5.24 in the loss notes)\n",
        "loss_function = nn.CrossEntropyLoss()\n",
        "# construct SGD optimizer and initialize learning rate and momentum\n",
        "optimizer = torch.optim.SGD(model.parameters(), lr = 0.05, momentum=0.9)\n",
        "# object that decreases learning rate by half every 20 epochs\n",
        "scheduler = StepLR(optimizer, step_size=20, gamma=0.5)\n",
        "# convert data to torch tensors\n",
        "x_train = torch.tensor(train_data_x.transpose().astype('float32'))\n",
        "y_train = torch.tensor(train_data_y.astype('long'))\n",
        "x_val= torch.tensor(val_data_x.transpose().astype('float32'))\n",
        "y_val = torch.tensor(val_data_y.astype('long'))\n",
        "\n",
        "# load the data into a class that creates the batches\n",
        "data_loader = DataLoader(TensorDataset(x_train,y_train), batch_size=100, shuffle=True, worker_init_fn=np.random.seed(1))\n",
        "\n",
        "# Initialize model weights\n",
        "model.apply(weights_init)\n",
        "\n",
        "# loop over the dataset n_epoch times\n",
        "n_epoch = 100\n",
        "# store the loss and the % correct at each epoch\n",
        "losses_train = np.zeros((n_epoch))\n",
        "errors_train = np.zeros((n_epoch))\n",
        "losses_val = np.zeros((n_epoch))\n",
        "errors_val = np.zeros((n_epoch))\n",
        "\n",
        "for epoch in range(n_epoch):\n",
        "  # loop over batches\n",
        "  for i, data in enumerate(data_loader):\n",
        "    # retrieve inputs and labels for this batch\n",
        "    x_batch, y_batch = data\n",
        "    # zero the parameter gradients\n",
        "    optimizer.zero_grad()\n",
        "    # forward pass -- calculate model output\n",
        "    pred = model(x_batch)\n",
        "    # compute the loss\n",
        "    loss = loss_function(pred, y_batch)\n",
        "    # backward pass\n",
        "    loss.backward()\n",
        "    # SGD update\n",
        "    optimizer.step()\n",
        "\n",
        "  # Run whole dataset to get statistics -- normally wouldn't do this\n",
        "  pred_train = model(x_train)\n",
        "  pred_val = model(x_val)\n",
        "  _, predicted_train_class = torch.max(pred_train.data, 1)\n",
        "  _, predicted_val_class = torch.max(pred_val.data, 1)\n",
        "  errors_train[epoch] = 100 - 100 * (predicted_train_class == y_train).float().sum() / len(y_train)\n",
        "  errors_val[epoch]= 100 - 100 * (predicted_val_class == y_val).float().sum() / len(y_val)\n",
        "  losses_train[epoch] = loss_function(pred_train, y_train).item()\n",
        "  losses_val[epoch]= loss_function(pred_val, y_val).item()\n",
        "  print(f'Epoch {epoch:5d}, train loss {losses_train[epoch]:.6f}, train error {errors_train[epoch]:3.2f},  val loss {losses_val[epoch]:.6f}, percent error {errors_val[epoch]:3.2f}')\n",
        "\n",
        "  # tell scheduler to consider updating learning rate\n",
        "  scheduler.step()"
      ]
    },
    {
      "cell_type": "code",
      "execution_count": 15,
      "metadata": {
        "id": "CcP_VyEmE2sv"
      },
      "outputs": [
        {
          "data": {
            "image/png": "[encoded data removed]",
            "text/plain": [
              "<Figure size 640x480 with 1 Axes>"
            ]
          },
          "metadata": {},
          "output_type": "display_data"
        }
      ],
      "source": [
        "# Plot the results\n",
        "fig, ax = plt.subplots()\n",
        "ax.plot(errors_train,'r-',label='train')\n",
        "ax.plot(errors_val,'b-',label='test')\n",
        "ax.set_ylim(0,100); ax.set_xlim(0,n_epoch)\n",
        "ax.set_xlabel('Epoch'); ax.set_ylabel('Error')\n",
        "ax.set_title('TrainError %3.2f, Val Error %3.2f'%(errors_train[-1],errors_val[-1]))\n",
        "ax.legend()\n",
        "plt.show()"
      ]
    },
    {
      "cell_type": "markdown",
      "metadata": {
        "id": "wMmqhmxuAx0M"
      },
      "source": [
        "The primary motivation of residual networks is to allow training of much deeper networks.   \n",
        "\n",
        "TODO: Try running this network with and without the residual connections.  Does adding the residual connections change the performance?"
      ]
    }
  ],
  "metadata": {
    "colab": {
      "authorship_tag": "ABX9TyMXS3SPB4cS/4qxix0lH/Hq",
      "include_colab_link": true,
      "provenance": []
    },
    "kernelspec": {
      "display_name": "Python 3",
      "name": "python3"
    },
    "language_info": {
      "codemirror_mode": {
        "name": "ipython",
        "version": 3
      },
      "file_extension": ".py",
      "mimetype": "text/x-python",
      "name": "python",
      "nbconvert_exporter": "python",
      "pygments_lexer": "ipython3",
      "version": "3.11.7"
    }
  },
  "nbformat": 4,
  "nbformat_minor": 0
}
