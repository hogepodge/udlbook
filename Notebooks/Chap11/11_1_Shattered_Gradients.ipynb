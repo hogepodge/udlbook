{
  "cells": [
    {
      "cell_type": "markdown",
      "metadata": {
        "colab_type": "text",
        "id": "view-in-github"
      },
      "source": [
        "<a href=\"https://colab.research.google.com/github/udlbook/udlbook/blob/main/Notebooks/Chap11/11_1_Shattered_Gradients.ipynb\" target=\"_parent\"><img src=\"https://colab.research.google.com/assets/colab-badge.svg\" alt=\"Open In Colab\"/></a>"
      ]
    },
    {
      "cell_type": "markdown",
      "metadata": {
        "id": "pOZ6Djz0dhoy"
      },
      "source": [
        "# **Notebook 11.1: Shattered gradients**\n",
        "\n",
        "This notebook investigates the phenomenon of shattered gradients as discussed in section 11.1.1.  It replicates some of the experiments in [Balduzzi et al. (2017)](https://arxiv.org/abs/1702.08591).\n",
        "\n",
        "Work through the cells below, running each cell in turn. In various places you will see the words \"TO DO\". Follow the instructions at these places and make predictions about what is going to happen or write code to complete the functions.\n",
        "\n",
        "Contact me at udlbookmail@gmail.com if you find any mistakes or have any suggestions."
      ]
    },
    {
      "cell_type": "code",
      "execution_count": 1,
      "metadata": {
        "id": "iaFyNGhU21VJ"
      },
      "outputs": [],
      "source": [
        "import numpy as np\n",
        "import matplotlib.pyplot as plt"
      ]
    },
    {
      "cell_type": "markdown",
      "metadata": {
        "id": "YcNlAxnE3XXn"
      },
      "source": [
        "First let's define a neural network. We'll initialize both the weights and biases randomly with Glorot initialization (He initialization without the factor of two)"
      ]
    },
    {
      "cell_type": "code",
      "execution_count": 2,
      "metadata": {
        "id": "kr-q7hc23Bn9"
      },
      "outputs": [],
      "source": [
        "# K is width, D is number of hidden units in each layer\n",
        "def init_params(K, D):\n",
        "  # Set seed so we always get the same random numbers\n",
        "  np.random.seed(1)\n",
        "\n",
        "  # Input layer\n",
        "  D_i = 1\n",
        "  # Output layer\n",
        "  D_o = 1\n",
        "\n",
        "  # Glorot initialization\n",
        "  sigma_sq_omega = 1.0/D\n",
        "\n",
        "  # Make empty lists\n",
        "  all_weights = [None] * (K+1)\n",
        "  all_biases = [None] * (K+1)\n",
        "\n",
        "  # Create parameters for input and output layers\n",
        "  all_weights[0] = np.random.normal(size=(D, D_i))*np.sqrt(sigma_sq_omega)\n",
        "  all_weights[-1] = np.random.normal(size=(D_o, D)) * np.sqrt(sigma_sq_omega)\n",
        "  all_biases[0] = np.random.normal(size=(D,1))* np.sqrt(sigma_sq_omega)\n",
        "  all_biases[-1]= np.random.normal(size=(D_o,1))* np.sqrt(sigma_sq_omega)\n",
        "\n",
        "  # Create intermediate layers\n",
        "  for layer in range(1,K):\n",
        "    all_weights[layer] = np.random.normal(size=(D,D))*np.sqrt(sigma_sq_omega)\n",
        "    all_biases[layer] = np.random.normal(size=(D,1))* np.sqrt(sigma_sq_omega)\n",
        "\n",
        "  return all_weights, all_biases"
      ]
    },
    {
      "cell_type": "markdown",
      "metadata": {
        "id": "kwcn5z7-dq_1"
      },
      "source": [
        "The next two functions define the forward pass of the algorithm"
      ]
    },
    {
      "cell_type": "code",
      "execution_count": 3,
      "metadata": {
        "id": "_2w-Tr7G3sYq"
      },
      "outputs": [],
      "source": [
        "# Define the Rectified Linear Unit (ReLU) function\n",
        "def ReLU(preactivation):\n",
        "  activation = preactivation.clip(0.0)\n",
        "  return activation\n",
        "\n",
        "def forward_pass(net_input, all_weights, all_biases):\n",
        "\n",
        "  # Retrieve number of layers\n",
        "  K = len(all_weights) -1\n",
        "\n",
        "  # We'll store the pre-activations at each layer in a list \"all_f\"\n",
        "  # and the activations in a second list[all_h].\n",
        "  all_f = [None] * (K+1)\n",
        "  all_h = [None] * (K+1)\n",
        "\n",
        "  #For convenience, we'll set\n",
        "  # all_h[0] to be the input, and all_f[K] will be the output\n",
        "  all_h[0] = net_input\n",
        "\n",
        "  # Run through the layers, calculating all_f[0...K-1] and all_h[1...K]\n",
        "  for layer in range(K):\n",
        "      # Update preactivations and activations at this layer according to eqn 7.5\n",
        "      all_f[layer] = all_biases[layer] + np.matmul(all_weights[layer], all_h[layer])\n",
        "      all_h[layer+1] = ReLU(all_f[layer])\n",
        "\n",
        "  # Compute the output from the last hidden layer\n",
        "  all_f[K] = all_biases[K] + np.matmul(all_weights[K], all_h[K])\n",
        "\n",
        "  # Retrieve the output\n",
        "  net_output = all_f[K]\n",
        "\n",
        "  return net_output, all_f, all_h"
      ]
    },
    {
      "cell_type": "markdown",
      "metadata": {
        "id": "aM2l7QafeC8T"
      },
      "source": [
        "The next two functions compute the gradient of the output with respect to the input using the back propagation algorithm."
      ]
    },
    {
      "cell_type": "code",
      "execution_count": 4,
      "metadata": {
        "id": "DwR3eGMgV8bl"
      },
      "outputs": [],
      "source": [
        "# We'll need the indicator function\n",
        "def indicator_function(x):\n",
        "  x_in = np.array(x)\n",
        "  x_in[x_in>=0] = 1\n",
        "  x_in[x_in<0] = 0\n",
        "  return x_in\n",
        "\n",
        "# Main backward pass routine\n",
        "def calc_input_output_gradient(x_in, all_weights, all_biases):\n",
        "\n",
        "  # Run the forward pass\n",
        "  y, all_f, all_h = forward_pass(x_in, all_weights, all_biases)\n",
        "\n",
        "  # We'll store the derivatives dl_dweights and dl_dbiases in lists as well\n",
        "  all_dl_dweights = [None] * (K+1)\n",
        "  all_dl_dbiases = [None] * (K+1)\n",
        "  # And we'll store the derivatives of the loss with respect to the activation and preactivations in lists\n",
        "  all_dl_df = [None] * (K+1)\n",
        "  all_dl_dh = [None] * (K+1)\n",
        "  # Again for convenience we'll stick with the convention that all_h[0] is the net input and all_f[k] in the net output\n",
        "\n",
        "  # Compute derivatives of net output with respect to loss\n",
        "  all_dl_df[K] = np.ones_like(all_f[K])\n",
        "\n",
        "  # Now work backwards through the network\n",
        "  for layer in range(K,-1,-1):\n",
        "    all_dl_dbiases[layer] = np.array(all_dl_df[layer])\n",
        "    all_dl_dweights[layer] = np.matmul(all_dl_df[layer], all_h[layer].transpose())\n",
        "\n",
        "    all_dl_dh[layer] = np.matmul(all_weights[layer].transpose(), all_dl_df[layer])\n",
        "\n",
        "    if layer > 0:\n",
        "      all_dl_df[layer-1] = indicator_function(all_f[layer-1]) * all_dl_dh[layer]\n",
        "\n",
        "\n",
        "  return all_dl_dh[0],y"
      ]
    },
    {
      "cell_type": "markdown",
      "metadata": {
        "id": "Ar_VmraReSWe"
      },
      "source": [
        "Double check we have the gradient correct using finite differences"
      ]
    },
    {
      "cell_type": "code",
      "execution_count": 5,
      "metadata": {
        "id": "KJpQPVd36Haq"
      },
      "outputs": [
        {
          "name": "stdout",
          "output_type": "stream",
          "text": [
            "Gradient calculation=0.013250, Finite difference gradient=0.013250\n"
          ]
        },
        {
          "name": "stderr",
          "output_type": "stream",
          "text": [
            "/var/folders/n6/_24fwrqd0q75gsg8ywc8jt080000gn/T/ipykernel_85421/562439455.py:17: DeprecationWarning: Conversion of an array with ndim > 0 to a scalar is deprecated, and will error in future. Ensure you extract a single element from your array before performing this operation. (Deprecated NumPy 1.25.)\n",
            "  print(\"Gradient calculation=%f, Finite difference gradient=%f\"%(dydx,dydx_fd))\n"
          ]
        }
      ],
      "source": [
        "D = 200; K = 3\n",
        "# Initialize parameters\n",
        "all_weights, all_biases = init_params(K,D)\n",
        "\n",
        "x = np.ones((1,1))\n",
        "dydx,y = calc_input_output_gradient(x, all_weights, all_biases)\n",
        "\n",
        "# Offset for finite gradients\n",
        "delta = 0.00000001\n",
        "x1 = x\n",
        "y1,*_ = forward_pass(x1, all_weights, all_biases)\n",
        "x2 = x+delta\n",
        "y2,*_ = forward_pass(x2, all_weights, all_biases)\n",
        "# Finite difference calculation\n",
        "dydx_fd = (y2-y1)/delta\n",
        "\n",
        "print(\"Gradient calculation=%f, Finite difference gradient=%f\"%(dydx,dydx_fd))\n"
      ]
    },
    {
      "cell_type": "markdown",
      "metadata": {
        "id": "YC-LAYRKtbxp"
      },
      "source": [
        "Helper function that computes the derivatives for a 1D array of input values and plots them."
      ]
    },
    {
      "cell_type": "code",
      "execution_count": 6,
      "metadata": {
        "id": "uJr5eDe648jF"
      },
      "outputs": [],
      "source": [
        "def plot_derivatives(K, D):\n",
        "\n",
        "  # Initialize parameters\n",
        "  all_weights, all_biases = init_params(K,D)\n",
        "\n",
        "  x_in = np.arange(-2,2, 4.0/256.0)\n",
        "  x_in = np.resize(x_in, (1,len(x_in)))\n",
        "  dydx,y = calc_input_output_gradient(x_in, all_weights, all_biases)\n",
        "\n",
        "  fig,ax = plt.subplots()\n",
        "  ax.plot(np.squeeze(x_in), np.squeeze(dydx), 'b-')\n",
        "  ax.set_xlim(-2,2)\n",
        "  ax.set_xlabel('Input, $x$')\n",
        "  ax.set_ylabel('Gradient, $dy/dx$')\n",
        "  ax.set_title('No layers = %d'%(K))\n",
        "  plt.show()"
      ]
    },
    {
      "cell_type": "code",
      "execution_count": 12,
      "metadata": {
        "id": "56gTMTCb49KO"
      },
      "outputs": [
        {
          "data": {
            "image/png": "[encoded data removed]",
            "text/plain": [
              "<Figure size 640x480 with 1 Axes>"
            ]
          },
          "metadata": {},
          "output_type": "display_data"
        }
      ],
      "source": [
        "# Build a model with one hidden layer and 200 neurons and plot derivatives\n",
        "D = 200; K = 24\n",
        "plot_derivatives(K,D)\n",
        "\n",
        "# TODO -- Interpret this result\n",
        "# Why does the plot have some flat regions?\n",
        "\n",
        "# TODO -- Add code to plot the derivatives for models with 24 and 50 hidden layers\n",
        "# with 200 neurons per layer\n",
        "\n",
        "# TODO -- Why does this graph not have visible flat regions?\n",
        "\n",
        "# TODO -- Why does the magnitude of the gradients decrease as we increase the number\n",
        "# of hidden layers\n",
        "\n",
        "# TODO -- Do you find this a convincing replication of the experiment in the original paper? (I don't)\n",
        "# Can you help me find why I have failed to replicate this result?  udlbookmail@gmail.com"
      ]
    },
    {
      "cell_type": "markdown",
      "metadata": {
        "id": "f_0zjQbxuROQ"
      },
      "source": [
        "Let's look at the autocorrelation function now"
      ]
    },
    {
      "cell_type": "code",
      "execution_count": null,
      "metadata": {
        "id": "ggnO8hfoRN1e"
      },
      "outputs": [],
      "source": [
        "def autocorr(dydx):\n",
        "    # TODO -- compute the autocorrelation function\n",
        "    # Use the numpy function \"correlate\" with the mode set to \"same\"\n",
        "    # Replace this line:\n",
        "    ac = np.ones((256,1))\n",
        "\n",
        "    return ac"
      ]
    },
    {
      "cell_type": "markdown",
      "metadata": {
        "id": "EctWSV1RuddK"
      },
      "source": [
        "Helper function to plot the autocorrelation function and normalize so correlation is one with offset of zero"
      ]
    },
    {
      "cell_type": "code",
      "execution_count": null,
      "metadata": {
        "id": "2LKlZ9u_WQXN"
      },
      "outputs": [],
      "source": [
        "def plot_autocorr(K, D):\n",
        "\n",
        "  # Initialize parameters\n",
        "  all_weights, all_biases = init_params(K,D)\n",
        "\n",
        "  x_in = np.arange(-2.0,2.0, 4.0/256)\n",
        "  x_in = np.resize(x_in, (1,len(x_in)))\n",
        "  dydx,y = calc_input_output_gradient(x_in, all_weights, all_biases)\n",
        "  ac = autocorr(np.squeeze(dydx))\n",
        "  ac = ac / ac[128]\n",
        "\n",
        "  y = ac[128:]\n",
        "  x = np.squeeze(x_in)[128:]\n",
        "  fig,ax = plt.subplots()\n",
        "  ax.plot(x,y, 'b-')\n",
        "  ax.set_xlim([0,2])\n",
        "  ax.set_xlabel('Distance')\n",
        "  ax.set_ylabel('Autocorrelation')\n",
        "  ax.set_title('No layers = %d'%(K))\n",
        "  plt.show()\n"
      ]
    },
    {
      "cell_type": "code",
      "execution_count": null,
      "metadata": {
        "id": "RD9JTdjNWw6p"
      },
      "outputs": [],
      "source": [
        "# Plot the autocorrelation functions\n",
        "D = 200; K =1\n",
        "plot_autocorr(K,D)\n",
        "D = 200; K =50\n",
        "plot_autocorr(K,D)\n",
        "\n",
        "# TODO -- Do you find this a convincing replication of the experiment in the original paper? (I don't)\n",
        "# Can you help me find why I have failed to replicate this result?"
      ]
    }
  ],
  "metadata": {
    "colab": {
      "authorship_tag": "ABX9TyMrF4rB2hTKq7XzLuYsURdL",
      "include_colab_link": true,
      "provenance": []
    },
    "kernelspec": {
      "display_name": "Python 3",
      "name": "python3"
    },
    "language_info": {
      "codemirror_mode": {
        "name": "ipython",
        "version": 3
      },
      "file_extension": ".py",
      "mimetype": "text/x-python",
      "name": "python",
      "nbconvert_exporter": "python",
      "pygments_lexer": "ipython3",
      "version": "3.11.7"
    }
  },
  "nbformat": 4,
  "nbformat_minor": 0
}
