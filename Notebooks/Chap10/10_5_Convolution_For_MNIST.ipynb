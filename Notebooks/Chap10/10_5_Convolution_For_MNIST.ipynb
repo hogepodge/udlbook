{
  "cells": [
    {
      "cell_type": "markdown",
      "metadata": {
        "colab_type": "text",
        "id": "view-in-github"
      },
      "source": [
        "<a href=\"https://colab.research.google.com/github/udlbook/udlbook/blob/main/Notebooks/Chap10/10_5_Convolution_For_MNIST.ipynb\" target=\"_parent\"><img src=\"https://colab.research.google.com/assets/colab-badge.svg\" alt=\"Open In Colab\"/></a>"
      ]
    },
    {
      "cell_type": "markdown",
      "metadata": {
        "id": "t9vk9Elugvmi"
      },
      "source": [
        "# **Notebook 10.5: Convolution for MNIST**\n",
        "\n",
        "This notebook builds a proper network for 2D convolution.  It works with the MNIST dataset (figure 15.15a), which was the original classic dataset for classifying images.  The network will take a 28x28 grayscale image and classify it into one of 10 classes representing a digit.\n",
        "\n",
        "The code is adapted from https://nextjournal.com/gkoehler/pytorch-mnist\n",
        "\n",
        "Work through the cells below, running each cell in turn. In various places you will see the words \"TO DO\". Follow the instructions at these places and make predictions about what is going to happen or write code to complete the functions.\n",
        "\n",
        "Contact me at udlbookmail@gmail.com if you find any mistakes or have any suggestions.\n"
      ]
    },
    {
      "cell_type": "code",
      "execution_count": 1,
      "metadata": {
        "id": "YrXWAH7sUWvU"
      },
      "outputs": [],
      "source": [
        "import torch\n",
        "import torchvision\n",
        "import torch.nn as nn\n",
        "import torch.nn.functional as F\n",
        "import torch.optim as optim\n",
        "import matplotlib.pyplot as plt\n",
        "import random"
      ]
    },
    {
      "cell_type": "code",
      "execution_count": 3,
      "metadata": {
        "id": "wScBGXXFVadm"
      },
      "outputs": [
        {
          "name": "stdout",
          "output_type": "stream",
          "text": [
            "Downloading http://yann.lecun.com/exdb/mnist/train-images-idx3-ubyte.gz\n",
            "Downloading http://yann.lecun.com/exdb/mnist/train-images-idx3-ubyte.gz to files/MNIST/raw/train-images-idx3-ubyte.gz\n"
          ]
        },
        {
          "name": "stderr",
          "output_type": "stream",
          "text": [
            "100.0%\n",
            "100.0%\n"
          ]
        },
        {
          "name": "stdout",
          "output_type": "stream",
          "text": [
            "Extracting files/MNIST/raw/train-images-idx3-ubyte.gz to files/MNIST/raw\n",
            "\n",
            "Downloading http://yann.lecun.com/exdb/mnist/train-labels-idx1-ubyte.gz\n",
            "Downloading http://yann.lecun.com/exdb/mnist/train-labels-idx1-ubyte.gz to files/MNIST/raw/train-labels-idx1-ubyte.gz\n",
            "Extracting files/MNIST/raw/train-labels-idx1-ubyte.gz to files/MNIST/raw\n",
            "\n",
            "Downloading http://yann.lecun.com/exdb/mnist/t10k-images-idx3-ubyte.gz\n",
            "Downloading http://yann.lecun.com/exdb/mnist/t10k-images-idx3-ubyte.gz to files/MNIST/raw/t10k-images-idx3-ubyte.gz\n"
          ]
        },
        {
          "name": "stderr",
          "output_type": "stream",
          "text": [
            "100.0%\n",
            "100.0%\n"
          ]
        },
        {
          "name": "stdout",
          "output_type": "stream",
          "text": [
            "Extracting files/MNIST/raw/t10k-images-idx3-ubyte.gz to files/MNIST/raw\n",
            "\n",
            "Downloading http://yann.lecun.com/exdb/mnist/t10k-labels-idx1-ubyte.gz\n",
            "Downloading http://yann.lecun.com/exdb/mnist/t10k-labels-idx1-ubyte.gz to files/MNIST/raw/t10k-labels-idx1-ubyte.gz\n",
            "Extracting files/MNIST/raw/t10k-labels-idx1-ubyte.gz to files/MNIST/raw\n",
            "\n"
          ]
        }
      ],
      "source": [
        "# Run this once to load the train and test data straight into a dataloader class\n",
        "# that will provide the batches\n",
        "batch_size_train = 64\n",
        "batch_size_test = 1000\n",
        "train_loader = torch.utils.data.DataLoader(\n",
        "  torchvision.datasets.MNIST('files/', train=True, download=True,\n",
        "                             transform=torchvision.transforms.Compose([\n",
        "                               torchvision.transforms.ToTensor(),\n",
        "                               torchvision.transforms.Normalize(\n",
        "                                 (0.1307,), (0.3081,))\n",
        "                             ])),\n",
        "  batch_size=batch_size_train, shuffle=True)\n",
        "\n",
        "test_loader = torch.utils.data.DataLoader(\n",
        "  torchvision.datasets.MNIST('files/', train=False, download=True,\n",
        "                             transform=torchvision.transforms.Compose([\n",
        "                               torchvision.transforms.ToTensor(),\n",
        "                               torchvision.transforms.Normalize(\n",
        "                                 (0.1307,), (0.3081,))\n",
        "                             ])),\n",
        "  batch_size=batch_size_test, shuffle=True)"
      ]
    },
    {
      "cell_type": "code",
      "execution_count": 4,
      "metadata": {
        "id": "8bKADvLHbiV5"
      },
      "outputs": [
        {
          "data": {
            "image/png": "[encoded data removed]",
            "text/plain": [
              "<Figure size 640x480 with 6 Axes>"
            ]
          },
          "metadata": {},
          "output_type": "display_data"
        }
      ],
      "source": [
        "# Let's draw some of the training data\n",
        "examples = enumerate(test_loader)\n",
        "batch_idx, (example_data, example_targets) = next(examples)\n",
        "\n",
        "fig = plt.figure()\n",
        "for i in range(6):\n",
        "  plt.subplot(2,3,i+1)\n",
        "  plt.tight_layout()\n",
        "  plt.imshow(example_data[i][0], cmap='gray', interpolation='none')\n",
        "  plt.title(\"Ground Truth: {}\".format(example_targets[i]))\n",
        "  plt.xticks([])\n",
        "  plt.yticks([])\n",
        "plt.show()"
      ]
    },
    {
      "cell_type": "markdown",
      "metadata": {
        "id": "_sFvRDGrl4qe"
      },
      "source": [
        "Define the network.  This is a more typical way to define a network than the sequential structure.  We define a class for the network, and define the parameters in the constructor.  Then we use a function called forward to actually run the network.  It's easy to see how you might use residual connections in this format."
      ]
    },
    {
      "cell_type": "code",
      "execution_count": 11,
      "metadata": {
        "id": "EQkvw2KOPVl7"
      },
      "outputs": [],
      "source": [
        "from os import X_OK\n",
        "# TODO Change this class to implement\n",
        "# 1. A valid convolution with kernel size 5, 1 input channel and 10 output channels\n",
        "# 2. A max pooling operation over a 2x2 area\n",
        "# 3. A Relu\n",
        "# 4. A valid convolution with kernel size 5, 10 input channels and 20 output channels\n",
        "# 5. A 2D Dropout layer\n",
        "# 6. A max pooling operation over a 2x2 area\n",
        "# 7. A relu\n",
        "# 8. A flattening operation\n",
        "# 9. A fully connected layer mapping from (whatever dimensions we are at-- find out using .shape) to 50\n",
        "# 10. A ReLU\n",
        "# 11. A fully connected layer mapping from 50 to 10 dimensions\n",
        "# 12. A softmax function.\n",
        "\n",
        "# Replace this class which implements a minimal network (which still does okay)\n",
        "class Net(nn.Module):\n",
        "    def __init__(self):\n",
        "        super(Net, self).__init__()\n",
        "        # 1. A valid convolution with kernel size 5, 1 input channel and 10 output channels\n",
        "        self.conv1 = nn.Conv2d(1, 10, kernel_size=5)\n",
        "\n",
        "        # 4. A valid convolution with kernel size 5, 10 input channels and 20 output channels\n",
        "        self.conv4 = nn.Conv2d(10, 20, kernel_size=5)\n",
        "\n",
        "        # Dropout for convolutions\n",
        "        self.drop = nn.Dropout2d()\n",
        "        # Fully connected layer\n",
        "\n",
        "        # 9. A fully connected layer mapping from (whatever dimensions we are at-- find out using .shape) to 50\n",
        "        self.fc1 = nn.Linear(320, 50)\n",
        "\n",
        "        # 11. A fully connected layer mapping from 50 to 10 dimensions\n",
        "        self.fc2 = nn.Linear(50, 10)\n",
        "        \n",
        "\n",
        "    def forward(self, x):\n",
        "        x = self.conv1(x)     # 1. A valid convolution with kernel size 5, 1 input channel and 10 output channels\n",
        "        x = F.max_pool2d(x,2) # 2. A max pooling operation over a 2x2 area\n",
        "        x = F.relu(x)         # 3. A Relu\n",
        "        x = self.conv4(x)     # 4. A valid convolution with kernel size 5, 10 input channels and 20 output channels\n",
        "        x = self.drop(x)      # 5. A 2D Dropout layer\n",
        "        x = F.max_pool2d(x,2) # 6. A max pooling operation over a 2x2 area\n",
        "        x = F.relu(x)         # 7. A relu\n",
        "        x = x.flatten(1)      # 8. A flattening operation\n",
        "        x = self.fc1(x)       # 9. A fully connected layer mapping from (whatever dimensions we are at-- find out using .shape) to 50\n",
        "        x = F.relu(x)         # 10. A ReLU\n",
        "        x = self.fc2(x)       # 11. A fully connected layer mapping from 50 to 10 dimensions\n",
        "        x = F.log_softmax(x)\n",
        "        return x\n"
      ]
    },
    {
      "cell_type": "code",
      "execution_count": 12,
      "metadata": {
        "id": "qWZtkCZcU_dg"
      },
      "outputs": [],
      "source": [
        "# He initialization of weights\n",
        "def weights_init(layer_in):\n",
        "  if isinstance(layer_in, nn.Linear):\n",
        "    nn.init.kaiming_uniform_(layer_in.weight)\n",
        "    layer_in.bias.data.fill_(0.0)"
      ]
    },
    {
      "cell_type": "code",
      "execution_count": 13,
      "metadata": {
        "id": "FslroPJJffrh"
      },
      "outputs": [],
      "source": [
        "# Create network\n",
        "model = Net()\n",
        "# Initialize model weights\n",
        "model.apply(weights_init)\n",
        "# Define optimizer\n",
        "optimizer = optim.SGD(model.parameters(), lr=0.01, momentum=0.5)"
      ]
    },
    {
      "cell_type": "code",
      "execution_count": 14,
      "metadata": {
        "id": "xKQd9PzkQ766"
      },
      "outputs": [],
      "source": [
        "# Main training routine\n",
        "def train(epoch):\n",
        "  model.train()\n",
        "  # Get each\n",
        "  for batch_idx, (data, target) in enumerate(train_loader):\n",
        "    optimizer.zero_grad()\n",
        "    output = model(data)\n",
        "    loss = F.nll_loss(output, target)\n",
        "    loss.backward()\n",
        "    optimizer.step()\n",
        "    # Store results\n",
        "    if batch_idx % 10 == 0:\n",
        "      print('Train Epoch: {} [{}/{}]\\tLoss: {:.6f}'.format(\n",
        "        epoch, batch_idx * len(data), len(train_loader.dataset), loss.item()))"
      ]
    },
    {
      "cell_type": "code",
      "execution_count": 15,
      "metadata": {
        "id": "Byn-f7qWRLxX"
      },
      "outputs": [],
      "source": [
        "# Run on test data\n",
        "def test():\n",
        "  model.eval()\n",
        "  test_loss = 0\n",
        "  correct = 0\n",
        "  with torch.no_grad():\n",
        "    for data, target in test_loader:\n",
        "      output = model(data)\n",
        "      test_loss += F.nll_loss(output, target, size_average=False).item()\n",
        "      pred = output.data.max(1, keepdim=True)[1]\n",
        "      correct += pred.eq(target.data.view_as(pred)).sum()\n",
        "  test_loss /= len(test_loader.dataset)\n",
        "  print('\\nTest set: Avg. loss: {:.4f}, Accuracy: {}/{} ({:.0f}%)\\n'.format(\n",
        "    test_loss, correct, len(test_loader.dataset),\n",
        "    100. * correct / len(test_loader.dataset)))"
      ]
    },
    {
      "cell_type": "code",
      "execution_count": 16,
      "metadata": {
        "id": "YgLaex1pfhqz"
      },
      "outputs": [
        {
          "name": "stderr",
          "output_type": "stream",
          "text": [
            "/var/folders/n6/_24fwrqd0q75gsg8ywc8jt080000gn/T/ipykernel_62704/1247515588.py:49: UserWarning: Implicit dimension choice for log_softmax has been deprecated. Change the call to include dim=X as an argument.\n",
            "  x = F.log_softmax(x)\n",
            "/opt/homebrew/lib/python3.11/site-packages/torch/nn/_reduction.py:42: UserWarning: size_average and reduce args will be deprecated, please use reduction='sum' instead.\n",
            "  warnings.warn(warning.format(ret))\n"
          ]
        },
        {
          "name": "stdout",
          "output_type": "stream",
          "text": [
            "\n",
            "Test set: Avg. loss: 2.6095, Accuracy: 980/10000 (10%)\n",
            "\n",
            "Train Epoch: 1 [0/60000]\tLoss: 2.634530\n",
            "Train Epoch: 1 [640/60000]\tLoss: 2.119973\n",
            "Train Epoch: 1 [1280/60000]\tLoss: 1.874431\n",
            "Train Epoch: 1 [1920/60000]\tLoss: 1.915710\n",
            "Train Epoch: 1 [2560/60000]\tLoss: 1.550970\n",
            "Train Epoch: 1 [3200/60000]\tLoss: 1.329698\n",
            "Train Epoch: 1 [3840/60000]\tLoss: 1.150343\n",
            "Train Epoch: 1 [4480/60000]\tLoss: 1.318098\n",
            "Train Epoch: 1 [5120/60000]\tLoss: 0.976685\n",
            "Train Epoch: 1 [5760/60000]\tLoss: 0.724682\n",
            "Train Epoch: 1 [6400/60000]\tLoss: 0.876608\n",
            "Train Epoch: 1 [7040/60000]\tLoss: 0.868734\n",
            "Train Epoch: 1 [7680/60000]\tLoss: 0.721264\n",
            "Train Epoch: 1 [8320/60000]\tLoss: 0.715670\n",
            "Train Epoch: 1 [8960/60000]\tLoss: 0.655925\n",
            "Train Epoch: 1 [9600/60000]\tLoss: 0.804163\n",
            "Train Epoch: 1 [10240/60000]\tLoss: 0.655354\n",
            "Train Epoch: 1 [10880/60000]\tLoss: 0.700250\n",
            "Train Epoch: 1 [11520/60000]\tLoss: 0.718868\n",
            "Train Epoch: 1 [12160/60000]\tLoss: 0.712680\n",
            "Train Epoch: 1 [12800/60000]\tLoss: 0.769374\n",
            "Train Epoch: 1 [13440/60000]\tLoss: 0.378272\n",
            "Train Epoch: 1 [14080/60000]\tLoss: 0.599397\n",
            "Train Epoch: 1 [14720/60000]\tLoss: 0.672081\n",
            "Train Epoch: 1 [15360/60000]\tLoss: 0.693172\n",
            "Train Epoch: 1 [16000/60000]\tLoss: 0.333626\n",
            "Train Epoch: 1 [16640/60000]\tLoss: 0.675016\n",
            "Train Epoch: 1 [17280/60000]\tLoss: 0.404151\n",
            "Train Epoch: 1 [17920/60000]\tLoss: 0.490587\n",
            "Train Epoch: 1 [18560/60000]\tLoss: 0.438777\n",
            "Train Epoch: 1 [19200/60000]\tLoss: 0.452598\n",
            "Train Epoch: 1 [19840/60000]\tLoss: 0.369525\n",
            "Train Epoch: 1 [20480/60000]\tLoss: 0.576617\n",
            "Train Epoch: 1 [21120/60000]\tLoss: 0.414118\n",
            "Train Epoch: 1 [21760/60000]\tLoss: 0.428609\n",
            "Train Epoch: 1 [22400/60000]\tLoss: 0.387536\n",
            "Train Epoch: 1 [23040/60000]\tLoss: 0.780483\n",
            "Train Epoch: 1 [23680/60000]\tLoss: 0.389820\n",
            "Train Epoch: 1 [24320/60000]\tLoss: 0.292974\n",
            "Train Epoch: 1 [24960/60000]\tLoss: 0.422436\n",
            "Train Epoch: 1 [25600/60000]\tLoss: 0.670909\n",
            "Train Epoch: 1 [26240/60000]\tLoss: 0.412251\n",
            "Train Epoch: 1 [26880/60000]\tLoss: 0.420484\n",
            "Train Epoch: 1 [27520/60000]\tLoss: 0.521765\n",
            "Train Epoch: 1 [28160/60000]\tLoss: 0.300809\n",
            "Train Epoch: 1 [28800/60000]\tLoss: 0.285647\n",
            "Train Epoch: 1 [29440/60000]\tLoss: 0.840311\n",
            "Train Epoch: 1 [30080/60000]\tLoss: 0.256887\n",
            "Train Epoch: 1 [30720/60000]\tLoss: 0.472828\n",
            "Train Epoch: 1 [31360/60000]\tLoss: 0.332238\n",
            "Train Epoch: 1 [32000/60000]\tLoss: 0.428424\n",
            "Train Epoch: 1 [32640/60000]\tLoss: 0.310007\n",
            "Train Epoch: 1 [33280/60000]\tLoss: 0.242640\n",
            "Train Epoch: 1 [33920/60000]\tLoss: 0.300950\n",
            "Train Epoch: 1 [34560/60000]\tLoss: 0.301832\n",
            "Train Epoch: 1 [35200/60000]\tLoss: 0.303555\n",
            "Train Epoch: 1 [35840/60000]\tLoss: 0.303025\n",
            "Train Epoch: 1 [36480/60000]\tLoss: 0.297689\n",
            "Train Epoch: 1 [37120/60000]\tLoss: 0.363483\n",
            "Train Epoch: 1 [37760/60000]\tLoss: 0.352439\n",
            "Train Epoch: 1 [38400/60000]\tLoss: 0.252757\n",
            "Train Epoch: 1 [39040/60000]\tLoss: 0.550988\n",
            "Train Epoch: 1 [39680/60000]\tLoss: 0.434791\n",
            "Train Epoch: 1 [40320/60000]\tLoss: 0.519688\n",
            "Train Epoch: 1 [40960/60000]\tLoss: 0.388553\n",
            "Train Epoch: 1 [41600/60000]\tLoss: 0.374571\n",
            "Train Epoch: 1 [42240/60000]\tLoss: 0.380008\n",
            "Train Epoch: 1 [42880/60000]\tLoss: 0.323567\n",
            "Train Epoch: 1 [43520/60000]\tLoss: 0.548144\n",
            "Train Epoch: 1 [44160/60000]\tLoss: 0.252232\n",
            "Train Epoch: 1 [44800/60000]\tLoss: 0.237388\n",
            "Train Epoch: 1 [45440/60000]\tLoss: 0.172998\n",
            "Train Epoch: 1 [46080/60000]\tLoss: 0.311747\n",
            "Train Epoch: 1 [46720/60000]\tLoss: 0.179942\n",
            "Train Epoch: 1 [47360/60000]\tLoss: 0.463191\n",
            "Train Epoch: 1 [48000/60000]\tLoss: 0.275388\n",
            "Train Epoch: 1 [48640/60000]\tLoss: 0.305999\n",
            "Train Epoch: 1 [49280/60000]\tLoss: 0.294849\n",
            "Train Epoch: 1 [49920/60000]\tLoss: 0.189235\n",
            "Train Epoch: 1 [50560/60000]\tLoss: 0.413502\n",
            "Train Epoch: 1 [51200/60000]\tLoss: 0.368350\n",
            "Train Epoch: 1 [51840/60000]\tLoss: 0.360002\n",
            "Train Epoch: 1 [52480/60000]\tLoss: 0.315249\n",
            "Train Epoch: 1 [53120/60000]\tLoss: 0.218603\n",
            "Train Epoch: 1 [53760/60000]\tLoss: 0.216175\n",
            "Train Epoch: 1 [54400/60000]\tLoss: 0.165096\n",
            "Train Epoch: 1 [55040/60000]\tLoss: 0.291829\n",
            "Train Epoch: 1 [55680/60000]\tLoss: 0.235988\n",
            "Train Epoch: 1 [56320/60000]\tLoss: 0.164949\n",
            "Train Epoch: 1 [56960/60000]\tLoss: 0.240481\n",
            "Train Epoch: 1 [57600/60000]\tLoss: 0.275199\n",
            "Train Epoch: 1 [58240/60000]\tLoss: 0.243666\n",
            "Train Epoch: 1 [58880/60000]\tLoss: 0.183032\n",
            "Train Epoch: 1 [59520/60000]\tLoss: 0.118811\n",
            "\n",
            "Test set: Avg. loss: 0.1303, Accuracy: 9590/10000 (96%)\n",
            "\n",
            "Train Epoch: 2 [0/60000]\tLoss: 0.223709\n",
            "Train Epoch: 2 [640/60000]\tLoss: 0.252828\n",
            "Train Epoch: 2 [1280/60000]\tLoss: 0.113724\n",
            "Train Epoch: 2 [1920/60000]\tLoss: 0.097115\n",
            "Train Epoch: 2 [2560/60000]\tLoss: 0.387481\n",
            "Train Epoch: 2 [3200/60000]\tLoss: 0.088899\n",
            "Train Epoch: 2 [3840/60000]\tLoss: 0.171106\n",
            "Train Epoch: 2 [4480/60000]\tLoss: 0.183913\n",
            "Train Epoch: 2 [5120/60000]\tLoss: 0.164849\n",
            "Train Epoch: 2 [5760/60000]\tLoss: 0.181170\n",
            "Train Epoch: 2 [6400/60000]\tLoss: 0.269136\n",
            "Train Epoch: 2 [7040/60000]\tLoss: 0.376299\n",
            "Train Epoch: 2 [7680/60000]\tLoss: 0.175374\n",
            "Train Epoch: 2 [8320/60000]\tLoss: 0.188201\n",
            "Train Epoch: 2 [8960/60000]\tLoss: 0.238662\n",
            "Train Epoch: 2 [9600/60000]\tLoss: 0.158361\n",
            "Train Epoch: 2 [10240/60000]\tLoss: 0.090833\n",
            "Train Epoch: 2 [10880/60000]\tLoss: 0.297588\n",
            "Train Epoch: 2 [11520/60000]\tLoss: 0.244888\n",
            "Train Epoch: 2 [12160/60000]\tLoss: 0.188798\n",
            "Train Epoch: 2 [12800/60000]\tLoss: 0.274939\n",
            "Train Epoch: 2 [13440/60000]\tLoss: 0.152679\n",
            "Train Epoch: 2 [14080/60000]\tLoss: 0.101108\n",
            "Train Epoch: 2 [14720/60000]\tLoss: 0.088630\n",
            "Train Epoch: 2 [15360/60000]\tLoss: 0.074410\n",
            "Train Epoch: 2 [16000/60000]\tLoss: 0.259323\n",
            "Train Epoch: 2 [16640/60000]\tLoss: 0.132917\n",
            "Train Epoch: 2 [17280/60000]\tLoss: 0.213937\n",
            "Train Epoch: 2 [17920/60000]\tLoss: 0.149264\n",
            "Train Epoch: 2 [18560/60000]\tLoss: 0.086126\n",
            "Train Epoch: 2 [19200/60000]\tLoss: 0.264884\n",
            "Train Epoch: 2 [19840/60000]\tLoss: 0.330752\n",
            "Train Epoch: 2 [20480/60000]\tLoss: 0.368991\n",
            "Train Epoch: 2 [21120/60000]\tLoss: 0.097604\n",
            "Train Epoch: 2 [21760/60000]\tLoss: 0.267272\n",
            "Train Epoch: 2 [22400/60000]\tLoss: 0.145646\n",
            "Train Epoch: 2 [23040/60000]\tLoss: 0.088201\n",
            "Train Epoch: 2 [23680/60000]\tLoss: 0.119070\n",
            "Train Epoch: 2 [24320/60000]\tLoss: 0.326044\n",
            "Train Epoch: 2 [24960/60000]\tLoss: 0.183860\n",
            "Train Epoch: 2 [25600/60000]\tLoss: 0.085027\n",
            "Train Epoch: 2 [26240/60000]\tLoss: 0.179117\n",
            "Train Epoch: 2 [26880/60000]\tLoss: 0.164006\n",
            "Train Epoch: 2 [27520/60000]\tLoss: 0.234431\n",
            "Train Epoch: 2 [28160/60000]\tLoss: 0.330854\n",
            "Train Epoch: 2 [28800/60000]\tLoss: 0.142524\n",
            "Train Epoch: 2 [29440/60000]\tLoss: 0.058384\n",
            "Train Epoch: 2 [30080/60000]\tLoss: 0.228293\n",
            "Train Epoch: 2 [30720/60000]\tLoss: 0.200816\n",
            "Train Epoch: 2 [31360/60000]\tLoss: 0.126954\n",
            "Train Epoch: 2 [32000/60000]\tLoss: 0.112679\n",
            "Train Epoch: 2 [32640/60000]\tLoss: 0.274525\n",
            "Train Epoch: 2 [33280/60000]\tLoss: 0.288171\n",
            "Train Epoch: 2 [33920/60000]\tLoss: 0.178075\n",
            "Train Epoch: 2 [34560/60000]\tLoss: 0.152602\n",
            "Train Epoch: 2 [35200/60000]\tLoss: 0.100264\n",
            "Train Epoch: 2 [35840/60000]\tLoss: 0.347203\n",
            "Train Epoch: 2 [36480/60000]\tLoss: 0.519547\n",
            "Train Epoch: 2 [37120/60000]\tLoss: 0.151841\n",
            "Train Epoch: 2 [37760/60000]\tLoss: 0.121628\n",
            "Train Epoch: 2 [38400/60000]\tLoss: 0.316112\n",
            "Train Epoch: 2 [39040/60000]\tLoss: 0.098679\n",
            "Train Epoch: 2 [39680/60000]\tLoss: 0.191220\n",
            "Train Epoch: 2 [40320/60000]\tLoss: 0.226836\n",
            "Train Epoch: 2 [40960/60000]\tLoss: 0.082230\n",
            "Train Epoch: 2 [41600/60000]\tLoss: 0.156991\n",
            "Train Epoch: 2 [42240/60000]\tLoss: 0.294946\n",
            "Train Epoch: 2 [42880/60000]\tLoss: 0.092094\n",
            "Train Epoch: 2 [43520/60000]\tLoss: 0.197421\n",
            "Train Epoch: 2 [44160/60000]\tLoss: 0.109909\n",
            "Train Epoch: 2 [44800/60000]\tLoss: 0.188241\n",
            "Train Epoch: 2 [45440/60000]\tLoss: 0.174403\n",
            "Train Epoch: 2 [46080/60000]\tLoss: 0.183050\n",
            "Train Epoch: 2 [46720/60000]\tLoss: 0.142008\n",
            "Train Epoch: 2 [47360/60000]\tLoss: 0.159460\n",
            "Train Epoch: 2 [48000/60000]\tLoss: 0.137524\n",
            "Train Epoch: 2 [48640/60000]\tLoss: 0.028839\n",
            "Train Epoch: 2 [49280/60000]\tLoss: 0.164493\n",
            "Train Epoch: 2 [49920/60000]\tLoss: 0.215139\n",
            "Train Epoch: 2 [50560/60000]\tLoss: 0.247198\n",
            "Train Epoch: 2 [51200/60000]\tLoss: 0.393735\n",
            "Train Epoch: 2 [51840/60000]\tLoss: 0.101055\n",
            "Train Epoch: 2 [52480/60000]\tLoss: 0.283453\n",
            "Train Epoch: 2 [53120/60000]\tLoss: 0.214469\n",
            "Train Epoch: 2 [53760/60000]\tLoss: 0.076041\n",
            "Train Epoch: 2 [54400/60000]\tLoss: 0.465630\n",
            "Train Epoch: 2 [55040/60000]\tLoss: 0.094767\n",
            "Train Epoch: 2 [55680/60000]\tLoss: 0.184633\n",
            "Train Epoch: 2 [56320/60000]\tLoss: 0.339799\n",
            "Train Epoch: 2 [56960/60000]\tLoss: 0.196948\n",
            "Train Epoch: 2 [57600/60000]\tLoss: 0.141750\n",
            "Train Epoch: 2 [58240/60000]\tLoss: 0.087221\n",
            "Train Epoch: 2 [58880/60000]\tLoss: 0.164944\n",
            "Train Epoch: 2 [59520/60000]\tLoss: 0.316099\n",
            "\n",
            "Test set: Avg. loss: 0.0836, Accuracy: 9739/10000 (97%)\n",
            "\n",
            "Train Epoch: 3 [0/60000]\tLoss: 0.221851\n",
            "Train Epoch: 3 [640/60000]\tLoss: 0.401609\n",
            "Train Epoch: 3 [1280/60000]\tLoss: 0.299731\n",
            "Train Epoch: 3 [1920/60000]\tLoss: 0.204861\n",
            "Train Epoch: 3 [2560/60000]\tLoss: 0.665398\n",
            "Train Epoch: 3 [3200/60000]\tLoss: 0.180351\n",
            "Train Epoch: 3 [3840/60000]\tLoss: 0.098686\n",
            "Train Epoch: 3 [4480/60000]\tLoss: 0.281243\n",
            "Train Epoch: 3 [5120/60000]\tLoss: 0.177028\n",
            "Train Epoch: 3 [5760/60000]\tLoss: 0.118405\n",
            "Train Epoch: 3 [6400/60000]\tLoss: 0.383988\n",
            "Train Epoch: 3 [7040/60000]\tLoss: 0.120674\n",
            "Train Epoch: 3 [7680/60000]\tLoss: 0.147343\n",
            "Train Epoch: 3 [8320/60000]\tLoss: 0.095470\n",
            "Train Epoch: 3 [8960/60000]\tLoss: 0.177825\n",
            "Train Epoch: 3 [9600/60000]\tLoss: 0.151809\n",
            "Train Epoch: 3 [10240/60000]\tLoss: 0.090003\n",
            "Train Epoch: 3 [10880/60000]\tLoss: 0.288725\n",
            "Train Epoch: 3 [11520/60000]\tLoss: 0.292531\n",
            "Train Epoch: 3 [12160/60000]\tLoss: 0.078514\n",
            "Train Epoch: 3 [12800/60000]\tLoss: 0.264181\n",
            "Train Epoch: 3 [13440/60000]\tLoss: 0.275615\n",
            "Train Epoch: 3 [14080/60000]\tLoss: 0.063354\n",
            "Train Epoch: 3 [14720/60000]\tLoss: 0.285303\n",
            "Train Epoch: 3 [15360/60000]\tLoss: 0.175257\n",
            "Train Epoch: 3 [16000/60000]\tLoss: 0.237601\n",
            "Train Epoch: 3 [16640/60000]\tLoss: 0.098596\n",
            "Train Epoch: 3 [17280/60000]\tLoss: 0.147236\n",
            "Train Epoch: 3 [17920/60000]\tLoss: 0.142109\n",
            "Train Epoch: 3 [18560/60000]\tLoss: 0.080058\n",
            "Train Epoch: 3 [19200/60000]\tLoss: 0.149563\n",
            "Train Epoch: 3 [19840/60000]\tLoss: 0.141922\n",
            "Train Epoch: 3 [20480/60000]\tLoss: 0.283452\n",
            "Train Epoch: 3 [21120/60000]\tLoss: 0.136106\n",
            "Train Epoch: 3 [21760/60000]\tLoss: 0.208510\n",
            "Train Epoch: 3 [22400/60000]\tLoss: 0.525282\n",
            "Train Epoch: 3 [23040/60000]\tLoss: 0.137341\n",
            "Train Epoch: 3 [23680/60000]\tLoss: 0.221546\n",
            "Train Epoch: 3 [24320/60000]\tLoss: 0.128355\n",
            "Train Epoch: 3 [24960/60000]\tLoss: 0.216296\n",
            "Train Epoch: 3 [25600/60000]\tLoss: 0.306290\n",
            "Train Epoch: 3 [26240/60000]\tLoss: 0.097830\n",
            "Train Epoch: 3 [26880/60000]\tLoss: 0.069780\n",
            "Train Epoch: 3 [27520/60000]\tLoss: 0.084397\n",
            "Train Epoch: 3 [28160/60000]\tLoss: 0.230521\n",
            "Train Epoch: 3 [28800/60000]\tLoss: 0.213686\n",
            "Train Epoch: 3 [29440/60000]\tLoss: 0.047511\n",
            "Train Epoch: 3 [30080/60000]\tLoss: 0.055977\n",
            "Train Epoch: 3 [30720/60000]\tLoss: 0.120663\n",
            "Train Epoch: 3 [31360/60000]\tLoss: 0.106628\n",
            "Train Epoch: 3 [32000/60000]\tLoss: 0.165823\n",
            "Train Epoch: 3 [32640/60000]\tLoss: 0.174546\n",
            "Train Epoch: 3 [33280/60000]\tLoss: 0.200525\n",
            "Train Epoch: 3 [33920/60000]\tLoss: 0.342928\n",
            "Train Epoch: 3 [34560/60000]\tLoss: 0.155674\n",
            "Train Epoch: 3 [35200/60000]\tLoss: 0.132308\n",
            "Train Epoch: 3 [35840/60000]\tLoss: 0.056146\n",
            "Train Epoch: 3 [36480/60000]\tLoss: 0.335874\n",
            "Train Epoch: 3 [37120/60000]\tLoss: 0.156436\n",
            "Train Epoch: 3 [37760/60000]\tLoss: 0.215006\n",
            "Train Epoch: 3 [38400/60000]\tLoss: 0.202675\n",
            "Train Epoch: 3 [39040/60000]\tLoss: 0.082000\n",
            "Train Epoch: 3 [39680/60000]\tLoss: 0.154472\n",
            "Train Epoch: 3 [40320/60000]\tLoss: 0.215764\n",
            "Train Epoch: 3 [40960/60000]\tLoss: 0.120293\n",
            "Train Epoch: 3 [41600/60000]\tLoss: 0.107880\n",
            "Train Epoch: 3 [42240/60000]\tLoss: 0.221202\n",
            "Train Epoch: 3 [42880/60000]\tLoss: 0.183459\n",
            "Train Epoch: 3 [43520/60000]\tLoss: 0.214991\n",
            "Train Epoch: 3 [44160/60000]\tLoss: 0.092304\n",
            "Train Epoch: 3 [44800/60000]\tLoss: 0.183318\n",
            "Train Epoch: 3 [45440/60000]\tLoss: 0.186350\n",
            "Train Epoch: 3 [46080/60000]\tLoss: 0.101531\n",
            "Train Epoch: 3 [46720/60000]\tLoss: 0.221973\n",
            "Train Epoch: 3 [47360/60000]\tLoss: 0.051781\n",
            "Train Epoch: 3 [48000/60000]\tLoss: 0.100076\n",
            "Train Epoch: 3 [48640/60000]\tLoss: 0.252131\n",
            "Train Epoch: 3 [49280/60000]\tLoss: 0.116455\n",
            "Train Epoch: 3 [49920/60000]\tLoss: 0.347666\n",
            "Train Epoch: 3 [50560/60000]\tLoss: 0.265152\n",
            "Train Epoch: 3 [51200/60000]\tLoss: 0.276928\n",
            "Train Epoch: 3 [51840/60000]\tLoss: 0.125702\n",
            "Train Epoch: 3 [52480/60000]\tLoss: 0.163738\n",
            "Train Epoch: 3 [53120/60000]\tLoss: 0.257794\n",
            "Train Epoch: 3 [53760/60000]\tLoss: 0.084421\n",
            "Train Epoch: 3 [54400/60000]\tLoss: 0.033177\n",
            "Train Epoch: 3 [55040/60000]\tLoss: 0.114143\n",
            "Train Epoch: 3 [55680/60000]\tLoss: 0.120644\n",
            "Train Epoch: 3 [56320/60000]\tLoss: 0.080358\n",
            "Train Epoch: 3 [56960/60000]\tLoss: 0.142548\n",
            "Train Epoch: 3 [57600/60000]\tLoss: 0.102869\n",
            "Train Epoch: 3 [58240/60000]\tLoss: 0.282177\n",
            "Train Epoch: 3 [58880/60000]\tLoss: 0.185520\n",
            "Train Epoch: 3 [59520/60000]\tLoss: 0.322862\n",
            "\n",
            "Test set: Avg. loss: 0.0649, Accuracy: 9779/10000 (98%)\n",
            "\n"
          ]
        }
      ],
      "source": [
        "# Get initial performance\n",
        "test()\n",
        "# Train for three epochs\n",
        "n_epochs = 3\n",
        "for epoch in range(1, n_epochs + 1):\n",
        "  train(epoch)\n",
        "  test()"
      ]
    },
    {
      "cell_type": "code",
      "execution_count": 33,
      "metadata": {
        "id": "o7fRUAy9Se1B"
      },
      "outputs": [
        {
          "name": "stderr",
          "output_type": "stream",
          "text": [
            "/var/folders/n6/_24fwrqd0q75gsg8ywc8jt080000gn/T/ipykernel_62704/1247515588.py:49: UserWarning: Implicit dimension choice for log_softmax has been deprecated. Change the call to include dim=X as an argument.\n",
            "  x = F.log_softmax(x)\n"
          ]
        },
        {
          "data": {
            "image/png": "[encoded data removed]",
            "text/plain": [
              "<Figure size 640x480 with 25 Axes>"
            ]
          },
          "metadata": {},
          "output_type": "display_data"
        }
      ],
      "source": [
        "# Run network on data we got before and show predictions\n",
        "output = model(example_data)\n",
        "\n",
        "fig = plt.figure()\n",
        "for i in range(25):\n",
        "  plt.subplot(5,5,i+1)\n",
        "  plt.tight_layout()\n",
        "  plt.imshow(example_data[i+25][0], cmap='gray', interpolation='none')\n",
        "  plt.title(\"Prediction: {}\".format(\n",
        "    output.data.max(1, keepdim=True)[1][i+25].item()))\n",
        "  plt.xticks([])\n",
        "  plt.yticks([])\n",
        "plt.show()"
      ]
    },
    {
      "cell_type": "code",
      "execution_count": null,
      "metadata": {},
      "outputs": [],
      "source": []
    }
  ],
  "metadata": {
    "colab": {
      "authorship_tag": "ABX9TyNAcc98STMeyQgh9SbVHWG+",
      "include_colab_link": true,
      "provenance": []
    },
    "kernelspec": {
      "display_name": "Python 3",
      "name": "python3"
    },
    "language_info": {
      "codemirror_mode": {
        "name": "ipython",
        "version": 3
      },
      "file_extension": ".py",
      "mimetype": "text/x-python",
      "name": "python",
      "nbconvert_exporter": "python",
      "pygments_lexer": "ipython3",
      "version": "3.11.7"
    }
  },
  "nbformat": 4,
  "nbformat_minor": 0
}
