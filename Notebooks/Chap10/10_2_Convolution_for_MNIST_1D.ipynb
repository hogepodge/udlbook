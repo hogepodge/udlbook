{
  "cells": [
    {
      "cell_type": "markdown",
      "metadata": {
        "colab_type": "text",
        "id": "view-in-github"
      },
      "source": [
        "<a href=\"https://colab.research.google.com/github/udlbook/udlbook/blob/main/Notebooks/Chap10/10_2_Convolution_for_MNIST_1D.ipynb\" target=\"_parent\"><img src=\"https://colab.research.google.com/assets/colab-badge.svg\" alt=\"Open In Colab\"/></a>"
      ]
    },
    {
      "cell_type": "markdown",
      "metadata": {
        "id": "t9vk9Elugvmi"
      },
      "source": [
        "# **Notebook 10.2: Convolution for MNIST-1D**\n",
        "\n",
        "This notebook investigates a 1D convolutional network for MNIST-1D as in figure 10.7 and 10.8a.\n",
        "\n",
        "Work through the cells below, running each cell in turn. In various places you will see the words \"TO DO\". Follow the instructions at these places and make predictions about what is going to happen or write code to complete the functions.\n",
        "\n",
        "Contact me at udlbookmail@gmail.com if you find any mistakes or have any suggestions.\n",
        "\n"
      ]
    },
    {
      "cell_type": "code",
      "execution_count": 1,
      "metadata": {
        "id": "D5yLObtZCi9J"
      },
      "outputs": [
        {
          "name": "stdout",
          "output_type": "stream",
          "text": [
            "Cloning into 'mnist1d'...\n",
            "remote: Enumerating objects: 204, done.\u001b[K\n",
            "remote: Counting objects: 100% (76/76), done.\u001b[K\n",
            "remote: Compressing objects: 100% (35/35), done.\u001b[K\n",
            "remote: Total 204 (delta 47), reused 60 (delta 41), pack-reused 128\u001b[K\n",
            "Receiving objects: 100% (204/204), 8.42 MiB | 10.77 MiB/s, done.\n",
            "Resolving deltas: 100% (73/73), done.\n"
          ]
        }
      ],
      "source": [
        "# Run this if you're in a Colab to make a local copy of the MNIST 1D repository\n",
        "!git clone https://github.com/greydanus/mnist1d"
      ]
    },
    {
      "cell_type": "code",
      "execution_count": 2,
      "metadata": {
        "id": "YrXWAH7sUWvU"
      },
      "outputs": [],
      "source": [
        "import numpy as np\n",
        "import os\n",
        "import torch, torch.nn as nn\n",
        "from torch.utils.data import TensorDataset, DataLoader\n",
        "from torch.optim.lr_scheduler import StepLR\n",
        "import matplotlib.pyplot as plt\n",
        "import mnist1d\n",
        "import random"
      ]
    },
    {
      "cell_type": "code",
      "execution_count": 3,
      "metadata": {
        "id": "twI72ZCrCt5z"
      },
      "outputs": [
        {
          "name": "stdout",
          "output_type": "stream",
          "text": [
            "Did or could not load data from ./mnist1d_data.pkl. Rebuilding dataset...\n",
            "Examples in training set: 4000\n",
            "Examples in test set: 1000\n",
            "Length of each example: 40\n"
          ]
        }
      ],
      "source": [
        "args = mnist1d.data.get_dataset_args()\n",
        "data = mnist1d.data.get_dataset(args, path='./mnist1d_data.pkl', download=False, regenerate=False)\n",
        "\n",
        "# The training and test input and outputs are in\n",
        "# data['x'], data['y'], data['x_test'], and data['y_test']\n",
        "print(\"Examples in training set: {}\".format(len(data['y'])))\n",
        "print(\"Examples in test set: {}\".format(len(data['y_test'])))\n",
        "print(\"Length of each example: {}\".format(data['x'].shape[-1]))"
      ]
    },
    {
      "cell_type": "code",
      "execution_count": 4,
      "metadata": {
        "id": "8bKADvLHbiV5"
      },
      "outputs": [
        {
          "name": "stdout",
          "output_type": "stream",
          "text": [
            "Train data: 4000 examples (columns), each of which has 40 dimensions (rows)\n",
            "Validation data: 1000 examples (columns), each of which has 40 dimensions (rows)\n"
          ]
        }
      ],
      "source": [
        "# Load in the data\n",
        "train_data_x = data['x'].transpose()\n",
        "train_data_y = data['y']\n",
        "val_data_x = data['x_test'].transpose()\n",
        "val_data_y = data['y_test']\n",
        "# Print out sizes\n",
        "print(\"Train data: %d examples (columns), each of which has %d dimensions (rows)\"%((train_data_x.shape[1],train_data_x.shape[0])))\n",
        "print(\"Validation data: %d examples (columns), each of which has %d dimensions (rows)\"%((val_data_x.shape[1],val_data_x.shape[0])))"
      ]
    },
    {
      "cell_type": "markdown",
      "metadata": {
        "id": "_sFvRDGrl4qe"
      },
      "source": [
        "Define the network"
      ]
    },
    {
      "cell_type": "code",
      "execution_count": 12,
      "metadata": {
        "id": "FslroPJJffrh"
      },
      "outputs": [],
      "source": [
        "# There are 40 input dimensions and 10 output dimensions for this data\n",
        "# The inputs correspond to the 40 offsets in the MNIST1D template.\n",
        "D_i = 40\n",
        "# The outputs correspond to the 10 digits\n",
        "D_o = 10\n",
        "\n",
        "# TODO Create a model with the following layers\n",
        "# 1. Convolutional layer, (input=length 40 and 1 channel, kernel size 3, stride 2, padding=\"valid\", 15 output channels )\n",
        "# 2. ReLU\n",
        "# 3. Convolutional layer, (input=length 19 and 15 channels, kernel size 3, stride 2, padding=\"valid\", 15 output channels )\n",
        "# 4. ReLU\n",
        "# 5. Convolutional layer, (input=length 9 and 15 channels, kernel size 3, stride 2, padding=\"valid\", 15 output channels)\n",
        "# 6. ReLU\n",
        "# 7. Flatten (converts 4x15) to length 60\n",
        "# 8. Linear layer (input size = 60, output size = 10)\n",
        "# References:\n",
        "# https://pytorch.org/docs/1.13/generated/torch.nn.Conv1d.html?highlight=conv1d#torch.nn.Conv1d\n",
        "# https://pytorch.org/docs/stable/generated/torch.nn.Flatten.html\n",
        "# https://pytorch.org/docs/1.13/generated/torch.nn.Linear.html?highlight=linear#torch.nn.Linear\n",
        "\n",
        "# NOTE THAT THE CONVOLUTIONAL LAYERS NEED TO TAKE THE NUMBER OF INPUT CHANNELS AS A PARAMETER\n",
        "# AND NOT THE INPUT SIZE.\n",
        "\n",
        "# Replace the following function:\n",
        "model = nn.Sequential(\n",
        "    nn.Conv1d(1, 15, 3, 2, padding=\"valid\"),\n",
        "    nn.ReLU(),\n",
        "    nn.Conv1d(15, 15, 3, 2, padding=\"valid\"),\n",
        "    nn.ReLU(),\n",
        "    nn.Conv1d(15, 15, 3, 2, padding=\"valid\"),\n",
        "    nn.Flatten(),\n",
        "    nn.Linear(60, 10))\n"
      ]
    },
    {
      "cell_type": "code",
      "execution_count": 13,
      "metadata": {
        "id": "YgLaex1pfhqz"
      },
      "outputs": [],
      "source": [
        "# He initialization of weights\n",
        "def weights_init(layer_in):\n",
        "  if isinstance(layer_in, nn.Linear):\n",
        "    nn.init.kaiming_uniform_(layer_in.weight)\n",
        "    layer_in.bias.data.fill_(0.0)"
      ]
    },
    {
      "cell_type": "code",
      "execution_count": 14,
      "metadata": {
        "id": "NYw8I_3mmX5c"
      },
      "outputs": [
        {
          "name": "stdout",
          "output_type": "stream",
          "text": [
            "Epoch     0, train loss 1.859853, train error 73.88,  val loss 1.875650, percent error 74.90\n",
            "Epoch     1, train loss 1.486088, train error 59.42,  val loss 1.498239, percent error 62.00\n",
            "Epoch     2, train loss 1.320091, train error 51.92,  val loss 1.325413, percent error 54.60\n",
            "Epoch     3, train loss 1.262942, train error 52.60,  val loss 1.275718, percent error 54.00\n",
            "Epoch     4, train loss 1.134412, train error 44.47,  val loss 1.139536, percent error 47.70\n",
            "Epoch     5, train loss 1.014674, train error 39.55,  val loss 1.044615, percent error 42.10\n",
            "Epoch     6, train loss 0.889551, train error 35.05,  val loss 0.915098, percent error 37.70\n",
            "Epoch     7, train loss 0.742506, train error 28.20,  val loss 0.777101, percent error 29.40\n",
            "Epoch     8, train loss 0.707250, train error 27.68,  val loss 0.765771, percent error 32.00\n",
            "Epoch     9, train loss 0.683293, train error 27.45,  val loss 0.730634, percent error 30.20\n",
            "Epoch    10, train loss 0.577446, train error 22.93,  val loss 0.659997, percent error 26.30\n",
            "Epoch    11, train loss 0.510569, train error 19.15,  val loss 0.601905, percent error 22.90\n",
            "Epoch    12, train loss 0.497668, train error 19.07,  val loss 0.582959, percent error 21.60\n",
            "Epoch    13, train loss 0.458618, train error 16.07,  val loss 0.557671, percent error 19.80\n",
            "Epoch    14, train loss 0.376790, train error 13.03,  val loss 0.508944, percent error 18.10\n",
            "Epoch    15, train loss 0.389133, train error 14.30,  val loss 0.526276, percent error 20.80\n",
            "Epoch    16, train loss 0.305197, train error 10.75,  val loss 0.425810, percent error 13.60\n",
            "Epoch    17, train loss 0.295474, train error 9.60,  val loss 0.431318, percent error 14.20\n",
            "Epoch    18, train loss 0.314056, train error 11.62,  val loss 0.466012, percent error 16.70\n",
            "Epoch    19, train loss 0.293484, train error 10.72,  val loss 0.459086, percent error 14.80\n",
            "Epoch    20, train loss 0.211497, train error 6.93,  val loss 0.383070, percent error 11.80\n",
            "Epoch    21, train loss 0.200126, train error 6.95,  val loss 0.385826, percent error 13.10\n",
            "Epoch    22, train loss 0.201865, train error 7.43,  val loss 0.411138, percent error 13.90\n",
            "Epoch    23, train loss 0.172278, train error 5.72,  val loss 0.379532, percent error 12.20\n",
            "Epoch    24, train loss 0.189247, train error 6.45,  val loss 0.407639, percent error 11.90\n",
            "Epoch    25, train loss 0.160760, train error 5.20,  val loss 0.352472, percent error 10.10\n",
            "Epoch    26, train loss 0.184326, train error 6.20,  val loss 0.397125, percent error 12.40\n",
            "Epoch    27, train loss 0.153049, train error 5.07,  val loss 0.371433, percent error 11.40\n",
            "Epoch    28, train loss 0.152922, train error 5.62,  val loss 0.372910, percent error 12.10\n",
            "Epoch    29, train loss 0.162862, train error 5.88,  val loss 0.390237, percent error 11.40\n",
            "Epoch    30, train loss 0.145896, train error 5.05,  val loss 0.392521, percent error 12.50\n",
            "Epoch    31, train loss 0.138749, train error 4.75,  val loss 0.360824, percent error 11.50\n",
            "Epoch    32, train loss 0.130373, train error 4.15,  val loss 0.373081, percent error 11.40\n",
            "Epoch    33, train loss 0.125794, train error 4.07,  val loss 0.357033, percent error 11.30\n",
            "Epoch    34, train loss 0.123310, train error 4.03,  val loss 0.363589, percent error 11.80\n",
            "Epoch    35, train loss 0.112717, train error 3.25,  val loss 0.360256, percent error 10.50\n",
            "Epoch    36, train loss 0.107550, train error 3.30,  val loss 0.357709, percent error 10.50\n",
            "Epoch    37, train loss 0.110639, train error 3.70,  val loss 0.369458, percent error 11.00\n",
            "Epoch    38, train loss 0.102171, train error 3.40,  val loss 0.364727, percent error 11.50\n",
            "Epoch    39, train loss 0.102303, train error 3.30,  val loss 0.371939, percent error 10.30\n",
            "Epoch    40, train loss 0.089651, train error 2.70,  val loss 0.358906, percent error 10.20\n",
            "Epoch    41, train loss 0.081685, train error 2.20,  val loss 0.356104, percent error 10.60\n",
            "Epoch    42, train loss 0.081298, train error 2.15,  val loss 0.358675, percent error 10.30\n",
            "Epoch    43, train loss 0.078792, train error 2.32,  val loss 0.366323, percent error 10.50\n",
            "Epoch    44, train loss 0.075903, train error 2.18,  val loss 0.356395, percent error 10.40\n",
            "Epoch    45, train loss 0.077158, train error 2.25,  val loss 0.359774, percent error 10.60\n",
            "Epoch    46, train loss 0.078590, train error 2.28,  val loss 0.377084, percent error 11.10\n",
            "Epoch    47, train loss 0.079603, train error 2.45,  val loss 0.376620, percent error 10.40\n",
            "Epoch    48, train loss 0.078287, train error 2.47,  val loss 0.391050, percent error 11.10\n",
            "Epoch    49, train loss 0.072729, train error 2.20,  val loss 0.381227, percent error 10.80\n",
            "Epoch    50, train loss 0.077076, train error 2.57,  val loss 0.381414, percent error 10.80\n",
            "Epoch    51, train loss 0.067051, train error 1.78,  val loss 0.366628, percent error 10.40\n",
            "Epoch    52, train loss 0.069964, train error 2.20,  val loss 0.382577, percent error 10.50\n",
            "Epoch    53, train loss 0.069021, train error 2.10,  val loss 0.387793, percent error 10.90\n",
            "Epoch    54, train loss 0.066185, train error 1.85,  val loss 0.380645, percent error 10.70\n",
            "Epoch    55, train loss 0.067223, train error 2.12,  val loss 0.384711, percent error 10.90\n",
            "Epoch    56, train loss 0.067713, train error 2.22,  val loss 0.401058, percent error 10.40\n",
            "Epoch    57, train loss 0.070418, train error 2.32,  val loss 0.392928, percent error 10.40\n",
            "Epoch    58, train loss 0.063799, train error 1.93,  val loss 0.402463, percent error 10.70\n",
            "Epoch    59, train loss 0.071165, train error 2.43,  val loss 0.417092, percent error 10.90\n",
            "Epoch    60, train loss 0.056326, train error 1.47,  val loss 0.393765, percent error 10.80\n",
            "Epoch    61, train loss 0.056336, train error 1.70,  val loss 0.395833, percent error 10.40\n",
            "Epoch    62, train loss 0.054520, train error 1.30,  val loss 0.396362, percent error 10.40\n",
            "Epoch    63, train loss 0.057879, train error 1.65,  val loss 0.398597, percent error 10.50\n",
            "Epoch    64, train loss 0.052870, train error 1.30,  val loss 0.399102, percent error 10.50\n",
            "Epoch    65, train loss 0.052303, train error 1.40,  val loss 0.394117, percent error 10.50\n",
            "Epoch    66, train loss 0.053740, train error 1.43,  val loss 0.399756, percent error 10.60\n",
            "Epoch    67, train loss 0.051301, train error 1.20,  val loss 0.402295, percent error 10.70\n",
            "Epoch    68, train loss 0.055488, train error 1.35,  val loss 0.408487, percent error 10.50\n",
            "Epoch    69, train loss 0.050853, train error 1.15,  val loss 0.402822, percent error 10.30\n",
            "Epoch    70, train loss 0.053641, train error 1.55,  val loss 0.412096, percent error 10.40\n",
            "Epoch    71, train loss 0.051877, train error 1.47,  val loss 0.408597, percent error 10.60\n",
            "Epoch    72, train loss 0.048864, train error 1.15,  val loss 0.406977, percent error 10.50\n",
            "Epoch    73, train loss 0.048561, train error 1.12,  val loss 0.407285, percent error 10.50\n",
            "Epoch    74, train loss 0.048911, train error 1.18,  val loss 0.403987, percent error 10.70\n",
            "Epoch    75, train loss 0.048112, train error 1.03,  val loss 0.408673, percent error 10.40\n",
            "Epoch    76, train loss 0.047042, train error 1.07,  val loss 0.413137, percent error 10.50\n",
            "Epoch    77, train loss 0.049617, train error 1.32,  val loss 0.411308, percent error 10.40\n",
            "Epoch    78, train loss 0.049402, train error 1.20,  val loss 0.418956, percent error 10.30\n",
            "Epoch    79, train loss 0.046857, train error 1.15,  val loss 0.416850, percent error 10.40\n",
            "Epoch    80, train loss 0.045369, train error 1.03,  val loss 0.416213, percent error 10.40\n",
            "Epoch    81, train loss 0.044951, train error 0.95,  val loss 0.415062, percent error 10.50\n",
            "Epoch    82, train loss 0.045146, train error 1.15,  val loss 0.417825, percent error 10.50\n",
            "Epoch    83, train loss 0.044634, train error 0.95,  val loss 0.418196, percent error 10.60\n",
            "Epoch    84, train loss 0.045397, train error 1.05,  val loss 0.420427, percent error 10.60\n",
            "Epoch    85, train loss 0.044153, train error 0.97,  val loss 0.420717, percent error 10.40\n",
            "Epoch    86, train loss 0.045527, train error 1.05,  val loss 0.421861, percent error 10.40\n",
            "Epoch    87, train loss 0.044340, train error 1.00,  val loss 0.421871, percent error 10.40\n",
            "Epoch    88, train loss 0.043632, train error 1.00,  val loss 0.420764, percent error 10.60\n",
            "Epoch    89, train loss 0.043243, train error 0.95,  val loss 0.422094, percent error 10.50\n",
            "Epoch    90, train loss 0.043397, train error 1.07,  val loss 0.422543, percent error 10.50\n",
            "Epoch    91, train loss 0.042822, train error 0.95,  val loss 0.422456, percent error 10.50\n",
            "Epoch    92, train loss 0.043014, train error 0.95,  val loss 0.423980, percent error 10.50\n",
            "Epoch    93, train loss 0.042609, train error 1.00,  val loss 0.425926, percent error 10.60\n",
            "Epoch    94, train loss 0.042301, train error 0.93,  val loss 0.426851, percent error 10.50\n",
            "Epoch    95, train loss 0.042621, train error 0.85,  val loss 0.427747, percent error 10.50\n",
            "Epoch    96, train loss 0.042948, train error 0.97,  val loss 0.428521, percent error 10.50\n",
            "Epoch    97, train loss 0.041791, train error 1.00,  val loss 0.425334, percent error 10.40\n",
            "Epoch    98, train loss 0.041751, train error 0.95,  val loss 0.426666, percent error 10.60\n",
            "Epoch    99, train loss 0.041231, train error 0.85,  val loss 0.428033, percent error 10.60\n"
          ]
        },
        {
          "data": {
            "image/png": "[encoded data removed]",
            "text/plain": [
              "<Figure size 640x480 with 1 Axes>"
            ]
          },
          "metadata": {},
          "output_type": "display_data"
        }
      ],
      "source": [
        "# choose cross entropy loss function (equation 5.24 in the loss notes)\n",
        "loss_function = nn.CrossEntropyLoss()\n",
        "# construct SGD optimizer and initialize learning rate and momentum\n",
        "optimizer = torch.optim.SGD(model.parameters(), lr = 0.05, momentum=0.9)\n",
        "# object that decreases learning rate by half every 20 epochs\n",
        "scheduler = StepLR(optimizer, step_size=20, gamma=0.5)\n",
        "# create 100 dummy data points and store in data loader class\n",
        "x_train = torch.tensor(train_data_x.transpose().astype('float32'))\n",
        "y_train = torch.tensor(train_data_y.astype('long')).long()\n",
        "x_val= torch.tensor(val_data_x.transpose().astype('float32'))\n",
        "y_val = torch.tensor(val_data_y.astype('long')).long()\n",
        "\n",
        "# load the data into a class that creates the batches\n",
        "data_loader = DataLoader(TensorDataset(x_train,y_train), batch_size=100, shuffle=True, worker_init_fn=np.random.seed(1))\n",
        "\n",
        "# Initialize model weights\n",
        "model.apply(weights_init)\n",
        "\n",
        "# loop over the dataset n_epoch times\n",
        "n_epoch = 100\n",
        "# store the loss and the % correct at each epoch\n",
        "losses_train = np.zeros((n_epoch))\n",
        "errors_train = np.zeros((n_epoch))\n",
        "losses_val = np.zeros((n_epoch))\n",
        "errors_val = np.zeros((n_epoch))\n",
        "\n",
        "for epoch in range(n_epoch):\n",
        "  # loop over batches\n",
        "  for i, data in enumerate(data_loader):\n",
        "    # retrieve inputs and labels for this batch\n",
        "    x_batch, y_batch = data\n",
        "    # zero the parameter gradients\n",
        "    optimizer.zero_grad()\n",
        "    # forward pass -- calculate model output\n",
        "    pred = model(x_batch[:,None,:])\n",
        "    # compute the loss\n",
        "    loss = loss_function(pred, y_batch)\n",
        "    # backward pass\n",
        "    loss.backward()\n",
        "    # SGD update\n",
        "    optimizer.step()\n",
        "\n",
        "  # Run whole dataset to get statistics -- normally wouldn't do this\n",
        "  pred_train = model(x_train[:,None,:])\n",
        "  pred_val = model(x_val[:,None,:])\n",
        "  _, predicted_train_class = torch.max(pred_train.data, 1)\n",
        "  _, predicted_val_class = torch.max(pred_val.data, 1)\n",
        "  errors_train[epoch] = 100 - 100 * (predicted_train_class == y_train).float().sum() / len(y_train)\n",
        "  errors_val[epoch]= 100 - 100 * (predicted_val_class == y_val).float().sum() / len(y_val)\n",
        "  losses_train[epoch] = loss_function(pred_train, y_train).item()\n",
        "  losses_val[epoch]= loss_function(pred_val, y_val).item()\n",
        "  print(f'Epoch {epoch:5d}, train loss {losses_train[epoch]:.6f}, train error {errors_train[epoch]:3.2f},  val loss {losses_val[epoch]:.6f}, percent error {errors_val[epoch]:3.2f}')\n",
        "\n",
        "  # tell scheduler to consider updating learning rate\n",
        "  scheduler.step()\n",
        "\n",
        "# Plot the results\n",
        "fig, ax = plt.subplots()\n",
        "ax.plot(errors_train,'r-',label='train')\n",
        "ax.plot(errors_val,'b-',label='validation')\n",
        "ax.set_ylim(0,100); ax.set_xlim(0,n_epoch)\n",
        "ax.set_xlabel('Epoch'); ax.set_ylabel('Error')\n",
        "ax.set_title('Part I: Validation Result %3.2f'%(errors_val[-1]))\n",
        "ax.legend()\n",
        "plt.show()"
      ]
    },
    {
      "cell_type": "code",
      "execution_count": null,
      "metadata": {},
      "outputs": [],
      "source": []
    }
  ],
  "metadata": {
    "colab": {
      "authorship_tag": "ABX9TyNJodaaCLMRWL9vTl8B/iLI",
      "include_colab_link": true,
      "provenance": []
    },
    "kernelspec": {
      "display_name": "Python 3",
      "name": "python3"
    },
    "language_info": {
      "codemirror_mode": {
        "name": "ipython",
        "version": 3
      },
      "file_extension": ".py",
      "mimetype": "text/x-python",
      "name": "python",
      "nbconvert_exporter": "python",
      "pygments_lexer": "ipython3",
      "version": "3.11.7"
    }
  },
  "nbformat": 4,
  "nbformat_minor": 0
}
